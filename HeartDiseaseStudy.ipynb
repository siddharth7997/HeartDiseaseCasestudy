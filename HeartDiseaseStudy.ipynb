{
 "cells": [
  {
   "cell_type": "markdown",
   "metadata": {},
   "source": [
    "# Heart Disease Risk Predictions"
   ]
  },
  {
   "cell_type": "markdown",
   "metadata": {},
   "source": [
    "## Data Used: UCI Heart Disease Dataset\n",
    "This directory contains 4 databases concerning heart disease diagnosis.\n",
    "   All attributes are numeric-valued.  The data was collected from the\n",
    "   four following locations:\n",
    "\n",
    "     1. Cleveland Clinic Foundation\n",
    "     2. Hungarian Institute of Cardiology, Budapest\n",
    "     3. V.A. Medical Center, Long Beach, CA\n",
    "     4. University Hospital, Zurich, Switzerland"
   ]
  },
  {
   "cell_type": "markdown",
   "metadata": {},
   "source": [
    "## Number of Instances: \n",
    "####        Database:    # of instances:\n",
    "          1. Cleveland: 303\n",
    "          2. Hungarian: 294\n",
    "          3. Switzerland: 123\n",
    "          4. Long Beach VA: 200\n",
    "      \n",
    "      "
   ]
  },
  {
   "cell_type": "markdown",
   "metadata": {},
   "source": [
    "# Attribute Information:\n",
    "      1. age:age in years       \n",
    "      2. sex:(1 = male; 0 = female)       \n",
    "      3. cp:chest pain type\n",
    "          -- Value 1: typical angina\n",
    "          -- Value 2: atypical angina\n",
    "          -- Value 3: non-anginal pain\n",
    "          -- Value 4: asymptomatic\n",
    "      4. trestbps: resting blood pressure  \n",
    "      5. chol:cholestoral      \n",
    "      6. fbs:(fasting blood sugar > 120 mg/dl)  (1 = true; 0 = false)    \n",
    "      7. restecg:\n",
    "          -- Value 0: normal\n",
    "          -- Value 1: having ST-T wave abnormality \n",
    "          -- Value 2: showing probable or definite left ventricular hypertrophy\n",
    "      8. thalach:maximum heart rate achieved\n",
    "      9. exang:exercise induced angina (1 = yes; 0 = no)     \n",
    "      10. oldpeak:ST depression induced by exercise relative to rest   \n",
    "      11. slope:the slope of the peak exercise ST segment\n",
    "        -- Value 1: upsloping\n",
    "        -- Value 2: flat\n",
    "        -- Value 3: downsloping     \n",
    "      12. ca: number of major vessels (0-3) colored by flourosopy        \n",
    "      13. thal: 3 = normal; 6 = fixed defect; 7 = reversable defect \n",
    "      14. category:diagnosis of heart disease[0-4]       (the predicted attribute)\n"
   ]
  },
  {
   "cell_type": "markdown",
   "metadata": {},
   "source": [
    "## Class Distribution:\n",
    "        Database:      0   1   2   3   4 Total\n",
    "          Cleveland: 164  55  36  35  13   303\n",
    "          Hungarian: 188  37  26  28  15   294\n",
    "        Switzerland:   8  48  32  30   5   123\n",
    "      Long Beach VA:  51  56  41  42  10   200"
   ]
  },
  {
   "cell_type": "code",
   "execution_count": 2,
   "metadata": {
    "collapsed": true
   },
   "outputs": [],
   "source": [
    "import pandas\n",
    "import numpy\n",
    "import matplotlib.pyplot as plt"
   ]
  },
  {
   "cell_type": "code",
   "execution_count": 3,
   "metadata": {
    "collapsed": false,
    "scrolled": false
   },
   "outputs": [
    {
     "name": "stdout",
     "output_type": "stream",
     "text": [
      "    AGE  SEX  CP THRESTBPS CHOL FBS RESTECG THALACH EXANG OLDPEAK SLOPE CA  \\\n",
      "0    63    1   1       145  233   1       2     150     0     2.3     3  0   \n",
      "1    67    1   4       160  286   0       2     108     1     1.5     2  3   \n",
      "2    67    1   4       120  229   0       2     129     1     2.6     2  2   \n",
      "3    37    1   3       130  250   0       0     187     0     3.5     3  0   \n",
      "4    41    0   2       130  204   0       2     172     0     1.4     1  0   \n",
      "5    56    1   2       120  236   0       0     178     0     0.8     1  0   \n",
      "6    62    0   4       140  268   0       2     160     0     3.6     3  2   \n",
      "7    57    0   4       120  354   0       0     163     1     0.6     1  0   \n",
      "8    63    1   4       130  254   0       2     147     0     1.4     2  1   \n",
      "9    53    1   4       140  203   1       2     155     1     3.1     3  0   \n",
      "10   57    1   4       140  192   0       0     148     0     0.4     2  0   \n",
      "11   56    0   2       140  294   0       2     153     0     1.3     2  0   \n",
      "12   56    1   3       130  256   1       2     142     1     0.6     2  1   \n",
      "13   44    1   2       120  263   0       0     173     0       0     1  0   \n",
      "14   52    1   3       172  199   1       0     162     0     0.5     1  0   \n",
      "\n",
      "   THAL  CATEGORY  \n",
      "0     6         0  \n",
      "1     3         2  \n",
      "2     7         1  \n",
      "3     3         0  \n",
      "4     3         0  \n",
      "5     3         0  \n",
      "6     3         3  \n",
      "7     3         0  \n",
      "8     7         2  \n",
      "9     7         1  \n",
      "10    6         0  \n",
      "11    3         0  \n",
      "12    6         2  \n",
      "13    7         0  \n",
      "14    7         0  \n"
     ]
    }
   ],
   "source": [
    "df=pandas.read_csv('Preprocessed/data_combined.csv')\n",
    "print df[:15]"
   ]
  },
  {
   "cell_type": "code",
   "execution_count": 4,
   "metadata": {
    "collapsed": false
   },
   "outputs": [
    {
     "name": "stdout",
     "output_type": "stream",
     "text": [
      "AGE           int64\n",
      "SEX           int64\n",
      "CP            int64\n",
      "THRESTBPS    object\n",
      "CHOL         object\n",
      "FBS          object\n",
      "RESTECG      object\n",
      "THALACH      object\n",
      "EXANG        object\n",
      "OLDPEAK      object\n",
      "SLOPE        object\n",
      "CA           object\n",
      "THAL         object\n",
      "CATEGORY      int64\n",
      "dtype: object\n"
     ]
    }
   ],
   "source": [
    "print df.dtypes"
   ]
  },
  {
   "cell_type": "code",
   "execution_count": 5,
   "metadata": {
    "collapsed": false
   },
   "outputs": [
    {
     "name": "stdout",
     "output_type": "stream",
     "text": [
      "0    411\n",
      "1    265\n",
      "2    109\n",
      "3    107\n",
      "4     28\n",
      "Name: CATEGORY, dtype: int64\n"
     ]
    }
   ],
   "source": [
    "print df['CATEGORY'].value_counts()"
   ]
  },
  {
   "cell_type": "markdown",
   "metadata": {
    "collapsed": false
   },
   "source": [
    "## Missing Attribute Values(WEKA TOOL)\n",
    "1. THRESTBPS(6%)\n",
    "2. RESTECG(2 values)\n",
    "2. CHOL(3%)\n",
    "3. FBS(10%)\n",
    "4. THALAC(6%)\n",
    "5. EXANG(6%)\n",
    "5. OLDPEAK(7%)\n",
    "6. SLOPE(34%)\n",
    "7. CA(66%)\n",
    "8. THAL(53%)"
   ]
  },
  {
   "cell_type": "markdown",
   "metadata": {},
   "source": [
    "## Replacing missing values for THERESTBPS"
   ]
  },
  {
   "cell_type": "code",
   "execution_count": 6,
   "metadata": {
    "collapsed": false
   },
   "outputs": [
    {
     "name": "stdout",
     "output_type": "stream",
     "text": [
      "120    131\n",
      "130    115\n",
      "140    102\n",
      "110     59\n",
      "?       59\n",
      "Name: THRESTBPS, dtype: int64\n"
     ]
    }
   ],
   "source": [
    "print df['THRESTBPS'].value_counts().head()"
   ]
  },
  {
   "cell_type": "code",
   "execution_count": 7,
   "metadata": {
    "collapsed": false
   },
   "outputs": [],
   "source": [
    "#average rest blood pressure is  generally in range 120-140\n",
    "df['THRESTBPS'] = df['THRESTBPS'].replace(['?'],'120')\n",
    "df['THRESTBPS'] = df['THRESTBPS'].astype('int64')"
   ]
  },
  {
   "cell_type": "markdown",
   "metadata": {},
   "source": [
    "## Replacing missing values for FBS"
   ]
  },
  {
   "cell_type": "code",
   "execution_count": 8,
   "metadata": {
    "collapsed": false
   },
   "outputs": [
    {
     "name": "stdout",
     "output_type": "stream",
     "text": [
      "0    692\n",
      "1    138\n",
      "?     90\n",
      "Name: FBS, dtype: int64\n",
      "male:\n",
      "0    528\n",
      "1    119\n",
      "?     79\n",
      "Name: FBS, dtype: int64\n",
      "Female:\n",
      "0    164\n",
      "1     19\n",
      "?     11\n",
      "Name: FBS, dtype: int64\n"
     ]
    }
   ],
   "source": [
    "#print df.columns\n",
    "print df['FBS'].value_counts()\n",
    "print \"male:\\n\",df[df['SEX']==1]['FBS'].value_counts()\n",
    "print \"Female:\\n\",df[df['SEX']==0]['FBS'].value_counts()#directly replace with 0"
   ]
  },
  {
   "cell_type": "code",
   "execution_count": 9,
   "metadata": {
    "collapsed": false
   },
   "outputs": [
    {
     "name": "stdout",
     "output_type": "stream",
     "text": [
      "0    759\n",
      "1    161\n",
      "Name: FBS, dtype: int64\n"
     ]
    }
   ],
   "source": [
    "#randomly filling values with 80% with 0 and 20% with 1s\n",
    "v=df.FBS.values=='?'\n",
    "df.loc[v, 'FBS'] = numpy.random.choice(('0','1'), v.sum(), p=(0.8,0.2))\n",
    "print df['FBS'].value_counts()\n",
    "df['FBS']=df['FBS'].astype('int64')"
   ]
  },
  {
   "cell_type": "markdown",
   "metadata": {},
   "source": [
    "# Replacing missing values in CHOL"
   ]
  },
  {
   "cell_type": "code",
   "execution_count": 10,
   "metadata": {
    "collapsed": false
   },
   "outputs": [
    {
     "data": {
      "text/plain": [
       "0      172\n",
       "?       30\n",
       "254     10\n",
       "220     10\n",
       "216      9\n",
       "Name: CHOL, dtype: int64"
      ]
     },
     "execution_count": 10,
     "metadata": {},
     "output_type": "execute_result"
    }
   ],
   "source": [
    "df['CHOL'].value_counts().head()\n",
    "#evenly distributed...\n",
    "#so will replace with mean of the class"
   ]
  },
  {
   "cell_type": "code",
   "execution_count": 11,
   "metadata": {
    "collapsed": false
   },
   "outputs": [
    {
     "name": "stdout",
     "output_type": "stream",
     "text": [
      "[233 286 229 250 204 236 268 354 254 203 192 294 256 263 199 168 239 275\n",
      " 266 211 283 284 224 206 219 340 226 247 167 230 335 234 177 276 353 243\n",
      " 225 302 212 330 175 417 197 198 290 253 172 273 213 305 216 304 188 282\n",
      " 185 232 326 231 269 267 248 360 258 308 245 270 208 264 321 274 325 235\n",
      " 257 164 141 252 255 201 222 260 182 303 265 309 307 249 186 341 183 407\n",
      " 217 288 220 209 227 261 174 281 221 205 240 289 318 298 564 246 322 299\n",
      " 300 293 277 214 207 223 160 394 184 315 409 244 195 196 126 313 259 200\n",
      " 262 215 228 193 271 210 327 149 295 306 178 237 218 242 319 166 180 311\n",
      " 278 342 169 187 157 176 241 131 132 161 173 194 297 292 339 147 291 358\n",
      " 412 238 163 280 202 328 129 190 179 272 100 468 320 312 171 365 344  85\n",
      " 347 251 287 156 117 466 338 529 392 329 355 603 404 518 285 279 388 336\n",
      " 491 331 393   0 153 316 458 384 349 142 181 310 170 369 165 337 333 139\n",
      " 385]\n"
     ]
    }
   ],
   "source": [
    "df['CHOL']=df['CHOL'].replace('?','-69')#temporarily replacing ? with -69\n",
    "df['CHOL']=df['CHOL'].astype('int64')\n",
    "k=int(df[df['CHOL']!=-69]['CHOL'].mean())\n",
    "df['CHOL']=df['CHOL'].replace(-69,k)\n",
    "\n",
    "\n",
    "print df['CHOL'].unique() #completed !--!"
   ]
  },
  {
   "cell_type": "markdown",
   "metadata": {},
   "source": [
    "## Replacing missing values in RESTECG"
   ]
  },
  {
   "cell_type": "code",
   "execution_count": 12,
   "metadata": {
    "collapsed": false
   },
   "outputs": [
    {
     "name": "stdout",
     "output_type": "stream",
     "text": [
      "0    551\n",
      "2    188\n",
      "1    179\n",
      "?      2\n",
      "Name: RESTECG, dtype: int64\n"
     ]
    }
   ],
   "source": [
    "print df['RESTECG'].value_counts()\n",
    "\n",
    "#replacing with max occuring value for attribute\n",
    "df['RESTECG']=df['RESTECG'].replace('?','0')\n",
    "#print df['RESTECG'].unique()\n",
    "#print df['RESTECG'].value_counts()\n",
    "df['RESTECG'] = df['RESTECG'].astype('int64')"
   ]
  },
  {
   "cell_type": "markdown",
   "metadata": {},
   "source": [
    "## Replacing missing values in THALACH"
   ]
  },
  {
   "cell_type": "code",
   "execution_count": 13,
   "metadata": {
    "collapsed": false
   },
   "outputs": [
    {
     "data": {
      "text/plain": [
       "?      55\n",
       "150    43\n",
       "140    41\n",
       "120    35\n",
       "130    30\n",
       "Name: THALACH, dtype: int64"
      ]
     },
     "execution_count": 13,
     "metadata": {},
     "output_type": "execute_result"
    }
   ],
   "source": [
    "df['THALACH'].value_counts().head()"
   ]
  },
  {
   "cell_type": "code",
   "execution_count": 14,
   "metadata": {
    "collapsed": false
   },
   "outputs": [
    {
     "name": "stdout",
     "output_type": "stream",
     "text": [
      "137\n"
     ]
    }
   ],
   "source": [
    "df['THALACH']=df['THALACH'].replace('?','-69')#temporarily replacing ? with -69\n",
    "df['THALACH']=df['THALACH'].astype('int64')\n",
    "k=int(df[df['THALACH']!=-69]['THALACH'].mean())\n",
    "print k\n",
    "df['THALACH']=df['THALACH'].replace(-69,k)"
   ]
  },
  {
   "cell_type": "code",
   "execution_count": 15,
   "metadata": {
    "collapsed": false
   },
   "outputs": [
    {
     "data": {
      "text/plain": [
       "137    60\n",
       "150    43\n",
       "140    41\n",
       "120    35\n",
       "130    30\n",
       "Name: THALACH, dtype: int64"
      ]
     },
     "execution_count": 15,
     "metadata": {},
     "output_type": "execute_result"
    }
   ],
   "source": [
    "df['THALACH'].value_counts().head()"
   ]
  },
  {
   "cell_type": "markdown",
   "metadata": {},
   "source": [
    "## Replacing missing values in EXANG"
   ]
  },
  {
   "cell_type": "code",
   "execution_count": 16,
   "metadata": {
    "collapsed": false
   },
   "outputs": [
    {
     "name": "stdout",
     "output_type": "stream",
     "text": [
      "0    528\n",
      "1    337\n",
      "?     55\n",
      "Name: EXANG, dtype: int64\n"
     ]
    }
   ],
   "source": [
    "#exang:exercise induced angina (1 = yes; 0 = no) \n",
    "print df['EXANG'].value_counts()"
   ]
  },
  {
   "cell_type": "code",
   "execution_count": 17,
   "metadata": {
    "collapsed": false
   },
   "outputs": [
    {
     "name": "stdout",
     "output_type": "stream",
     "text": [
      "0.610404624277\n"
     ]
    }
   ],
   "source": [
    "k=528.0/(337.0+528.0)\n",
    "print k"
   ]
  },
  {
   "cell_type": "code",
   "execution_count": 18,
   "metadata": {
    "collapsed": false
   },
   "outputs": [
    {
     "name": "stdout",
     "output_type": "stream",
     "text": [
      "0    560\n",
      "1    360\n",
      "Name: EXANG, dtype: int64\n"
     ]
    }
   ],
   "source": [
    "v=df.EXANG.values=='?'\n",
    "df.loc[v,'EXANG'] = numpy.random.choice(('0','1'), v.sum(), p=(0.61,0.39))\n",
    "print df['EXANG'].value_counts()\n",
    "df['EXANG']=df[\"EXANG\"].astype('int64')"
   ]
  },
  {
   "cell_type": "markdown",
   "metadata": {
    "collapsed": true
   },
   "source": [
    "## Replacing missing values in OLDPEAK"
   ]
  },
  {
   "cell_type": "code",
   "execution_count": 19,
   "metadata": {
    "collapsed": false
   },
   "outputs": [
    {
     "name": "stdout",
     "output_type": "stream",
     "text": [
      "0      370\n",
      "1       83\n",
      "2       76\n",
      "?       62\n",
      "1.5     48\n",
      "Name: OLDPEAK, dtype: int64\n"
     ]
    }
   ],
   "source": [
    "print df['OLDPEAK'].value_counts().head()"
   ]
  },
  {
   "cell_type": "code",
   "execution_count": 20,
   "metadata": {
    "collapsed": false
   },
   "outputs": [
    {
     "name": "stdout",
     "output_type": "stream",
     "text": [
      "0.878787878788\n"
     ]
    }
   ],
   "source": [
    "df['OLDPEAK']=df['OLDPEAK'].replace('?','-69')#temporarily replacing ? with -69\n",
    "df['OLDPEAK']=df['OLDPEAK'].astype('float64')\n",
    "k=df[df['OLDPEAK']!=-69]['OLDPEAK'].mean()\n",
    "print k\n",
    "df['OLDPEAK']=df['OLDPEAK'].replace(-69,numpy.round(k,1))"
   ]
  },
  {
   "cell_type": "code",
   "execution_count": 21,
   "metadata": {
    "collapsed": false
   },
   "outputs": [
    {
     "name": "stdout",
     "output_type": "stream",
     "text": [
      " 0.0    370\n",
      " 1.0     83\n",
      " 2.0     76\n",
      " 0.9     66\n",
      " 1.5     48\n",
      " 3.0     28\n",
      " 0.5     19\n",
      " 1.2     17\n",
      " 2.5     16\n",
      " 0.8     15\n",
      " 1.4     15\n",
      " 0.6     14\n",
      " 1.6     14\n",
      " 0.2     14\n",
      " 1.8     12\n",
      " 0.4     10\n",
      " 0.1      9\n",
      " 4.0      8\n",
      " 2.6      7\n",
      " 2.8      7\n",
      " 2.2      5\n",
      " 0.7      5\n",
      " 1.9      5\n",
      " 1.3      5\n",
      " 0.3      5\n",
      " 1.1      4\n",
      " 2.4      4\n",
      " 3.6      4\n",
      " 3.4      3\n",
      " 3.5      2\n",
      "-1.0      2\n",
      "-0.5      2\n",
      " 3.2      2\n",
      " 4.2      2\n",
      " 2.1      2\n",
      " 2.3      2\n",
      " 1.7      2\n",
      " 3.1      1\n",
      " 2.9      1\n",
      " 4.4      1\n",
      "-0.1      1\n",
      "-0.7      1\n",
      " 3.8      1\n",
      " 5.6      1\n",
      " 5.0      1\n",
      " 3.7      1\n",
      "-1.5      1\n",
      "-2.0      1\n",
      "-0.9      1\n",
      "-2.6      1\n",
      "-1.1      1\n",
      "-0.8      1\n",
      " 6.2      1\n",
      "Name: OLDPEAK, dtype: int64\n"
     ]
    }
   ],
   "source": [
    "print df['OLDPEAK'].value_counts()"
   ]
  },
  {
   "cell_type": "markdown",
   "metadata": {},
   "source": [
    "## SLOPE"
   ]
  },
  {
   "cell_type": "code",
   "execution_count": 22,
   "metadata": {
    "collapsed": false
   },
   "outputs": [
    {
     "name": "stdout",
     "output_type": "stream",
     "text": [
      "2    345\n",
      "?    309\n",
      "1    203\n",
      "3     63\n",
      "Name: SLOPE, dtype: int64\n"
     ]
    }
   ],
   "source": [
    "print df['SLOPE'].value_counts()"
   ]
  },
  {
   "cell_type": "code",
   "execution_count": 23,
   "metadata": {
    "collapsed": false
   },
   "outputs": [],
   "source": [
    "#k=203.0/(345.0+203.0+63.0)\n",
    "#print k"
   ]
  },
  {
   "cell_type": "code",
   "execution_count": 24,
   "metadata": {
    "collapsed": false
   },
   "outputs": [
    {
     "name": "stdout",
     "output_type": "stream",
     "text": [
      "2    544\n",
      "1    289\n",
      "3     87\n",
      "Name: SLOPE, dtype: int64\n"
     ]
    }
   ],
   "source": [
    "v=df.SLOPE.values=='?'\n",
    "df.loc[v,'SLOPE'] = numpy.random.choice(('2','1','3'), v.sum(), p=(0.6,0.30,0.10))\n",
    "print df['SLOPE'].value_counts()\n",
    "df['SLOPE']=df['SLOPE'].astype('int64')"
   ]
  },
  {
   "cell_type": "markdown",
   "metadata": {},
   "source": [
    "## CA"
   ]
  },
  {
   "cell_type": "code",
   "execution_count": 25,
   "metadata": {
    "collapsed": false
   },
   "outputs": [
    {
     "name": "stdout",
     "output_type": "stream",
     "text": [
      "?    611\n",
      "0    181\n",
      "1     67\n",
      "2     41\n",
      "3     20\n",
      "Name: CA, dtype: int64\n",
      "0.132686084142\n"
     ]
    }
   ],
   "source": [
    "print df[\"CA\"].value_counts()\n",
    "k=(41.0)/(181+67+41+20)\n",
    "print k"
   ]
  },
  {
   "cell_type": "code",
   "execution_count": 26,
   "metadata": {
    "collapsed": false
   },
   "outputs": [
    {
     "name": "stdout",
     "output_type": "stream",
     "text": [
      "0    538\n",
      "1    199\n",
      "2    123\n",
      "3     60\n",
      "Name: CA, dtype: int64\n"
     ]
    }
   ],
   "source": [
    "v=df.CA.values=='?'\n",
    "df.loc[v,'CA'] = numpy.random.choice(('0','1','2','3'), v.sum(), p=(0.60,0.20,0.13,0.07))\n",
    "df['CA']=df['CA'].astype('int64')\n",
    "print df['CA'].value_counts()"
   ]
  },
  {
   "cell_type": "markdown",
   "metadata": {},
   "source": [
    "## THAL"
   ]
  },
  {
   "cell_type": "code",
   "execution_count": 27,
   "metadata": {
    "collapsed": false
   },
   "outputs": [
    {
     "name": "stdout",
     "output_type": "stream",
     "text": [
      "?    486\n",
      "3    196\n",
      "7    192\n",
      "6     46\n",
      "Name: THAL, dtype: int64\n"
     ]
    }
   ],
   "source": [
    "print df['THAL'].value_counts()\n",
    "#can't use random walk directly here"
   ]
  },
  {
   "cell_type": "code",
   "execution_count": 28,
   "metadata": {
    "collapsed": false
   },
   "outputs": [
    {
     "name": "stdout",
     "output_type": "stream",
     "text": [
      "1    110\n",
      "0     86\n",
      "Name: SEX, dtype: int64\n",
      "1    171\n",
      "0     21\n",
      "Name: SEX, dtype: int64\n"
     ]
    }
   ],
   "source": [
    "print df[df['THAL']=='3']['SEX'].value_counts()\n",
    "print df[df['THAL']=='7']['SEX'].value_counts()"
   ]
  },
  {
   "cell_type": "code",
   "execution_count": 29,
   "metadata": {
    "collapsed": false
   },
   "outputs": [
    {
     "name": "stdout",
     "output_type": "stream",
     "text": [
      "THAL:3=====>\n",
      "0    138\n",
      "1     30\n",
      "2     14\n",
      "3     12\n",
      "4      2\n",
      "Name: CATEGORY, dtype: int64\n",
      "THAL:7=====>\n",
      "1    63\n",
      "3    43\n",
      "0    38\n",
      "2    37\n",
      "4    11\n",
      "Name: CATEGORY, dtype: int64\n",
      "THAL:6=====>\n",
      "1    13\n",
      "2    12\n",
      "0    11\n",
      "3     7\n",
      "4     3\n",
      "Name: CATEGORY, dtype: int64\n"
     ]
    }
   ],
   "source": [
    "print \"THAL:3=====>\\n\",df[df['THAL']=='3']['CATEGORY'].value_counts()\n",
    "print \"THAL:7=====>\\n\",df[df['THAL']=='7']['CATEGORY'].value_counts()\n",
    "print \"THAL:6=====>\\n\",df[df['THAL']=='6']['CATEGORY'].value_counts()"
   ]
  },
  {
   "cell_type": "code",
   "execution_count": 30,
   "metadata": {
    "collapsed": false
   },
   "outputs": [
    {
     "name": "stdout",
     "output_type": "stream",
     "text": [
      "7    454\n",
      "3    420\n",
      "6     46\n",
      "Name: THAL, dtype: int64\n"
     ]
    }
   ],
   "source": [
    "df['THAL']=df['THAL'].replace('?',-1)\n",
    "'''\n",
    "df['THAL']=df['THAL'].replace('?',-1)\n",
    "for row in df.iterrows():\n",
    "    if row['THAL']==-1 and row['CATEGORY']>=1:\n",
    "        df.loc[row.Index, 'ifor'] = 7\n",
    "        \n",
    "    elif row['THAL']==-1 and row['CATEGORY']==0:\n",
    "        df.loc[row.Index, 'ifor'] = 3\n",
    "'''\n",
    "df.loc[(df['THAL']==-1)&(df['CATEGORY']!=0),'THAL']='7'\n",
    "#print df['THAL'].value_counts()\n",
    "df.loc[(df['THAL']==-1)&(df['CATEGORY']==0),'THAL']=numpy.random.choice(('7','3'), p=(0.20,0.80))\n",
    "print df['THAL'].value_counts()\n",
    "df['THAL']=df['THAL'].astype('int64')"
   ]
  },
  {
   "cell_type": "code",
   "execution_count": 31,
   "metadata": {
    "collapsed": false
   },
   "outputs": [
    {
     "name": "stdout",
     "output_type": "stream",
     "text": [
      "AGE            int64\n",
      "SEX            int64\n",
      "CP             int64\n",
      "THRESTBPS      int64\n",
      "CHOL           int64\n",
      "FBS            int64\n",
      "RESTECG        int64\n",
      "THALACH        int64\n",
      "EXANG          int64\n",
      "OLDPEAK      float64\n",
      "SLOPE          int64\n",
      "CA             int64\n",
      "THAL           int64\n",
      "CATEGORY       int64\n",
      "dtype: object\n"
     ]
    }
   ],
   "source": [
    "print df.dtypes"
   ]
  },
  {
   "cell_type": "code",
   "execution_count": 32,
   "metadata": {
    "collapsed": false
   },
   "outputs": [],
   "source": [
    "dummies = pandas.get_dummies(df[\"CP\"],prefix=\"CP\")\n",
    "df = df.join(dummies)\n",
    "\n",
    "dummies = pandas.get_dummies(df[\"RESTECG\"],prefix=\"RESTECG\")\n",
    "df      = df.join(dummies)\n",
    "\n",
    "dummies = pandas.get_dummies(df[\"SLOPE\"],prefix=\"SLOPE\")\n",
    "df      = df.join(dummies)\n",
    "\n",
    "dummies = pandas.get_dummies(df[\"THAL\"],prefix=\"THAL\")\n",
    "df      = df.join(dummies)\n",
    "\n",
    "\n",
    "del df['CP']\n",
    "del df['RESTECG']\n",
    "del df['SLOPE']\n",
    "del df['THAL']"
   ]
  },
  {
   "cell_type": "code",
   "execution_count": 33,
   "metadata": {
    "collapsed": false
   },
   "outputs": [
    {
     "name": "stdout",
     "output_type": "stream",
     "text": [
      "AGE            int64\n",
      "SEX            int64\n",
      "THRESTBPS      int64\n",
      "CHOL           int64\n",
      "FBS            int64\n",
      "THALACH        int64\n",
      "EXANG          int64\n",
      "OLDPEAK      float64\n",
      "CA             int64\n",
      "CATEGORY       int64\n",
      "CP_1           uint8\n",
      "CP_2           uint8\n",
      "CP_3           uint8\n",
      "CP_4           uint8\n",
      "RESTECG_0      uint8\n",
      "RESTECG_1      uint8\n",
      "RESTECG_2      uint8\n",
      "SLOPE_1        uint8\n",
      "SLOPE_2        uint8\n",
      "SLOPE_3        uint8\n",
      "THAL_3         uint8\n",
      "THAL_6         uint8\n",
      "THAL_7         uint8\n",
      "dtype: object\n"
     ]
    }
   ],
   "source": [
    "print df.dtypes"
   ]
  },
  {
   "cell_type": "code",
   "execution_count": 34,
   "metadata": {
    "collapsed": false
   },
   "outputs": [],
   "source": [
    "for g in df.columns:\n",
    "    if df[g].dtype=='uint8':\n",
    "        df[g]=df[g].astype('int64')"
   ]
  },
  {
   "cell_type": "code",
   "execution_count": 35,
   "metadata": {
    "collapsed": false
   },
   "outputs": [],
   "source": [
    "df.dtypes\n",
    "df.loc[df['CATEGORY']>0,'CATEGORY']=1"
   ]
  },
  {
   "cell_type": "code",
   "execution_count": 36,
   "metadata": {
    "collapsed": true
   },
   "outputs": [],
   "source": [
    "stdcols = [\"AGE\",\"THRESTBPS\",\"CHOL\",\"THALACH\",\"OLDPEAK\"]\n",
    "nrmcols = [\"CA\"]\n",
    "stddf   = df.copy()\n",
    "stddf[stdcols] = stddf[stdcols].apply(lambda x: (x-x.mean())/x.std())\n",
    "stddf[nrmcols] = stddf[nrmcols].apply(lambda x: (x-x.mean())/(x.max()-x.min()))"
   ]
  },
  {
   "cell_type": "code",
   "execution_count": 37,
   "metadata": {
    "collapsed": false
   },
   "outputs": [
    {
     "name": "stdout",
     "output_type": "stream",
     "text": [
      "AGE          float64\n",
      "SEX            int64\n",
      "THRESTBPS    float64\n",
      "CHOL         float64\n",
      "FBS            int64\n",
      "THALACH      float64\n",
      "EXANG          int64\n",
      "OLDPEAK      float64\n",
      "CA           float64\n",
      "CATEGORY       int64\n",
      "CP_1           int64\n",
      "CP_2           int64\n",
      "CP_3           int64\n",
      "CP_4           int64\n",
      "RESTECG_0      int64\n",
      "RESTECG_1      int64\n",
      "RESTECG_2      int64\n",
      "SLOPE_1        int64\n",
      "SLOPE_2        int64\n",
      "SLOPE_3        int64\n",
      "THAL_3         int64\n",
      "THAL_6         int64\n",
      "THAL_7         int64\n",
      "dtype: object\n"
     ]
    }
   ],
   "source": [
    "print stddf.dtypes"
   ]
  },
  {
   "cell_type": "code",
   "execution_count": 38,
   "metadata": {
    "collapsed": true
   },
   "outputs": [],
   "source": [
    "from sklearn.model_selection import train_test_split\n"
   ]
  },
  {
   "cell_type": "code",
   "execution_count": 39,
   "metadata": {
    "collapsed": false
   },
   "outputs": [
    {
     "name": "stdout",
     "output_type": "stream",
     "text": [
      "<type 'numpy.ndarray'> [[ 1.00683792  1.          0.73041283 ...,  0.          1.          0.        ]\n",
      " [ 1.43125528  1.          1.53332004 ...,  1.          0.          0.        ]\n",
      " [ 1.43125528  1.         -0.60776585 ...,  0.          0.          1.        ]\n",
      " ..., \n",
      " [ 0.1580032   1.         -0.50071155 ...,  0.          1.          0.        ]\n",
      " [ 0.47631622  1.         -0.60776585 ...,  1.          0.          0.        ]\n",
      " [ 0.90073358  1.         -0.60776585 ...,  0.          0.          1.        ]]\n"
     ]
    }
   ],
   "source": [
    "df_copy=stddf.copy()\n",
    "df_copy=df_copy.drop(['CATEGORY'],axis=1)\n",
    "\n",
    "dat=df_copy.values\n",
    "#print dat.shape\n",
    "\n",
    "print type(dat),dat"
   ]
  },
  {
   "cell_type": "code",
   "execution_count": 40,
   "metadata": {
    "collapsed": false
   },
   "outputs": [
    {
     "name": "stdout",
     "output_type": "stream",
     "text": [
      "[0 1 1 0 0 0 1 0 1 1 0 0 1 0 0 0 1 0 0 0 0 0 1 1 1 0 0 0 0 1 0 1 1 0 0 0 1\n",
      " 1 1 0 1 0 0 0 1 1 0 1 0 0 0 0 1 0 1 1 1 1 0 0 1 0 1 0 1 1 1 0 1 1 0 1 1 1\n",
      " 1 0 1 0 0 1 0 0 0 1 0 0 0 0 0 0 0 1 0 0 0 1 1 1 0 0 0 0 0 0 1 0 1 1 1 1 1\n",
      " 1 0 1 1 0 0 0 1 1 1 1 0 1 1 0 1 1 0 0 0 0 0 0 0 0 1 1 1 0 0 1 0 1 0 1 1 0\n",
      " 0 0 0 0 0 1 1 1 1 1 1 0 0 1 0 0 0 0 0 0 1 0 1 0 1 0 1 1 0 1 0 0 1 1 0 0 1\n",
      " 0 0 1 1 1 0 1 1 1 0 1 0 0 0 1 0 0 0 0 0 1 1 1 0 1 0 1 0 1 1 0 0 0 0 0 0 0\n",
      " 0 1 1 0 0 0 1 1 0 1 1 0 0 1 1 1 0 0 0 0 0 1 0 1 1 1 1 0 0 1 0 0 0 0 0 0 0\n",
      " 1 0 1 0 0 1 1 1 1 1 0 1 0 1 0 1 0 0 0 1 0 1 0 1 0 1 1 1 0 0 0 1 0 1 1 1 0\n",
      " 1 1 1 1 1 1 0 0 0 0 0 0 0 0 0 0 0 0 0 0 0 0 0 0 0 0 0 0 0 0 0 0 0 0 0 0 0\n",
      " 0 0 0 0 0 0 0 0 0 0 0 0 0 0 0 0 0 0 0 0 0 0 0 0 0 0 0 0 0 0 0 0 0 0 0 0 0\n",
      " 0 0 0 0 0 0 0 0 0 0 0 0 0 0 0 0 0 0 0 0 0 0 0 0 0 0 0 0 0 0 0 0 0 0 0 0 0\n",
      " 0 0 0 0 0 0 0 0 0 0 0 0 0 0 0 0 0 0 0 0 0 0 0 0 0 0 0 0 0 0 0 0 0 0 0 0 0\n",
      " 0 0 0 0 0 0 0 0 0 0 0 0 0 0 0 0 0 0 0 0 0 0 0 0 0 0 0 0 0 0 0 0 0 0 0 0 0\n",
      " 0 0 0 0 0 0 0 0 0 0 1 1 1 1 1 1 1 1 1 1 1 1 1 1 1 1 1 1 1 1 1 1 1 1 1 1 1\n",
      " 1 1 1 1 1 1 1 1 1 1 1 1 1 1 1 1 1 1 1 1 1 1 1 1 1 1 1 1 1 1 1 1 1 1 1 1 1\n",
      " 1 1 1 1 1 1 1 1 1 1 1 1 1 1 1 1 1 1 1 1 1 1 1 1 1 1 1 1 1 1 1 1 1 1 1 1 1\n",
      " 1 1 1 1 1 1 1 1 1 1 1 0 1 1 1 1 1 1 1 1 1 1 0 1 1 1 1 1 1 1 1 1 1 1 1 1 1\n",
      " 1 1 1 1 1 1 1 1 1 0 1 1 1 1 1 0 1 1 1 0 1 1 1 0 1 1 1 1 1 1 1 1 1 1 1 1 1\n",
      " 1 1 1 1 1 1 1 1 1 1 1 1 1 1 1 1 1 1 1 1 1 1 1 1 1 1 1 1 1 1 1 1 1 1 1 1 1\n",
      " 1 1 1 0 1 1 1 1 1 1 1 1 1 1 0 1 1 1 0 1 1 0 0 1 0 1 1 0 1 1 1 1 0 1 1 0 0\n",
      " 1 1 1 0 1 1 1 1 1 1 1 1 1 1 1 1 1 0 1 0 1 1 1 0 1 1 1 0 1 0 1 0 1 0 1 1 1\n",
      " 1 0 1 0 1 1 1 1 1 1 1 1 1 0 1 0 1 1 1 1 1 1 1 0 1 1 1 1 1 1 0 1 1 1 0 1 1\n",
      " 0 1 0 1 1 0 1 1 1 1 0 1 1 1 0 0 1 0 1 1 1 1 1 1 1 1 1 1 1 0 1 1 1 1 0 0 1\n",
      " 1 1 0 1 0 1 1 0 1 0 1 1 1 0 0 0 1 1 1 0 1 1 1 1 1 1 1 1 1 1 1 1 1 1 1 1 0\n",
      " 1 1 1 0 1 1 0 0 1 1 1 1 1 0 1 1 0 1 1 1 1 0 0 1 1 1 1 1 0 1 0 1] <type 'numpy.ndarray'>\n"
     ]
    }
   ],
   "source": [
    "labels=df['CATEGORY'].values\n",
    "print labels,type(labels)"
   ]
  },
  {
   "cell_type": "code",
   "execution_count": 41,
   "metadata": {
    "collapsed": false
   },
   "outputs": [],
   "source": [
    "x_train,x_test,y_train,y_test=train_test_split(dat,labels, test_size=0.25, random_state=42)"
   ]
  },
  {
   "cell_type": "code",
   "execution_count": 42,
   "metadata": {
    "collapsed": false
   },
   "outputs": [
    {
     "name": "stdout",
     "output_type": "stream",
     "text": [
      "x_train: (690, 22)\n",
      "y_train: (690,)\n",
      "\n",
      "x_test: (230, 22)\n",
      "y_test: (230,)\n"
     ]
    }
   ],
   "source": [
    "print \"x_train:\",x_train.shape\n",
    "print \"y_train:\",y_train.shape\n",
    "print\n",
    "print \"x_test:\",x_test.shape\n",
    "print \"y_test:\",y_test.shape"
   ]
  },
  {
   "cell_type": "code",
   "execution_count": 43,
   "metadata": {
    "collapsed": false
   },
   "outputs": [
    {
     "name": "stdout",
     "output_type": "stream",
     "text": [
      "SVM: 89.5652173913 %\n",
      "Logistic Regression: 88.6956521739 %\n"
     ]
    }
   ],
   "source": [
    "#training and testing\n",
    "#SVM\n",
    "from sklearn import svm\n",
    "clf = svm.SVC(gamma=0.001, C=5)\n",
    "clf.fit(x_train,y_train)\n",
    "print \"SVM:\",clf.score(x_test,y_test)*100,\"%\"\n",
    "\n",
    "\n",
    "from sklearn import linear_model\n",
    "lrcv=linear_model.LogisticRegressionCV(fit_intercept=True,penalty='l2',dual=False)\n",
    "lrcv.fit(x_train,y_train)\n",
    "print \"Logistic Regression:\",lrcv.score(x_test,y_test)*100,\"%\"\n"
   ]
  },
  {
   "cell_type": "code",
   "execution_count": 44,
   "metadata": {
    "collapsed": false
   },
   "outputs": [
    {
     "name": "stderr",
     "output_type": "stream",
     "text": [
      "Using TensorFlow backend.\n"
     ]
    }
   ],
   "source": [
    "import keras \n",
    "import tensorflow\n",
    "%matplotlib inline\n",
    "from sklearn import metrics\n",
    "import matplotlib.pyplot as plt # side-stepping mpl backend\n",
    "from keras.models import Sequential\n",
    "from keras.layers import LSTM\n",
    "from keras.layers.core import Dropout, Flatten, Activation, Dense\n",
    "from keras.layers.convolutional import Convolution2D, Convolution1D,MaxPooling1D"
   ]
  },
  {
   "cell_type": "code",
   "execution_count": 45,
   "metadata": {
    "collapsed": false
   },
   "outputs": [
    {
     "name": "stderr",
     "output_type": "stream",
     "text": [
      "/home/siddharth/miniconda2/lib/python2.7/site-packages/ipykernel/__main__.py:2: UserWarning: Update your `Dense` call to the Keras 2 API: `Dense(512, activation=\"sigmoid\", kernel_initializer=\"uniform\", input_dim=22)`\n",
      "  from ipykernel import kernelapp as app\n",
      "/home/siddharth/miniconda2/lib/python2.7/site-packages/ipykernel/__main__.py:4: UserWarning: Update your `Dense` call to the Keras 2 API: `Dense(30, activation=\"sigmoid\", kernel_initializer=\"uniform\")`\n",
      "/home/siddharth/miniconda2/lib/python2.7/site-packages/ipykernel/__main__.py:5: UserWarning: Update your `Dense` call to the Keras 2 API: `Dense(1, activation=\"sigmoid\", kernel_initializer=\"uniform\")`\n"
     ]
    }
   ],
   "source": [
    "model = Sequential()\n",
    "model.add(Dense(512, input_dim=22, init='uniform', activation='sigmoid'))\n",
    "#model.add(Dropout(0.2))\n",
    "model.add(Dense(30, init='uniform', activation='sigmoid'))\n",
    "model.add(Dense(1, init='uniform', activation='sigmoid'))"
   ]
  },
  {
   "cell_type": "code",
   "execution_count": 46,
   "metadata": {
    "collapsed": true
   },
   "outputs": [],
   "source": [
    "model.compile(loss='mean_squared_error', optimizer='adam', metrics=['accuracy'])"
   ]
  },
  {
   "cell_type": "code",
   "execution_count": 47,
   "metadata": {
    "collapsed": false
   },
   "outputs": [
    {
     "name": "stdout",
     "output_type": "stream",
     "text": [
      "Train on 690 samples, validate on 230 samples\n",
      "Epoch 1/600\n",
      "0s - loss: 0.2501 - acc: 0.4623 - val_loss: 0.2463 - val_acc: 0.5826\n",
      "Epoch 2/600\n",
      "0s - loss: 0.2481 - acc: 0.5435 - val_loss: 0.2442 - val_acc: 0.5826\n",
      "Epoch 3/600\n",
      "0s - loss: 0.2480 - acc: 0.5435 - val_loss: 0.2433 - val_acc: 0.5826\n",
      "Epoch 4/600\n",
      "0s - loss: 0.2477 - acc: 0.5435 - val_loss: 0.2431 - val_acc: 0.5826\n",
      "Epoch 5/600\n",
      "0s - loss: 0.2474 - acc: 0.5435 - val_loss: 0.2429 - val_acc: 0.5826\n",
      "Epoch 6/600\n",
      "0s - loss: 0.2471 - acc: 0.5435 - val_loss: 0.2428 - val_acc: 0.5826\n",
      "Epoch 7/600\n",
      "0s - loss: 0.2466 - acc: 0.5435 - val_loss: 0.2427 - val_acc: 0.5826\n",
      "Epoch 8/600\n",
      "0s - loss: 0.2462 - acc: 0.5435 - val_loss: 0.2428 - val_acc: 0.5826\n",
      "Epoch 9/600\n",
      "0s - loss: 0.2458 - acc: 0.5435 - val_loss: 0.2428 - val_acc: 0.5826\n",
      "Epoch 10/600\n",
      "0s - loss: 0.2453 - acc: 0.5435 - val_loss: 0.2424 - val_acc: 0.5826\n",
      "Epoch 11/600\n",
      "0s - loss: 0.2447 - acc: 0.5435 - val_loss: 0.2417 - val_acc: 0.5826\n",
      "Epoch 12/600\n",
      "0s - loss: 0.2440 - acc: 0.5435 - val_loss: 0.2407 - val_acc: 0.5826\n",
      "Epoch 13/600\n",
      "0s - loss: 0.2430 - acc: 0.5435 - val_loss: 0.2398 - val_acc: 0.5826\n",
      "Epoch 14/600\n",
      "0s - loss: 0.2419 - acc: 0.5435 - val_loss: 0.2383 - val_acc: 0.5826\n",
      "Epoch 15/600\n",
      "0s - loss: 0.2404 - acc: 0.5435 - val_loss: 0.2364 - val_acc: 0.5826\n",
      "Epoch 16/600\n",
      "0s - loss: 0.2388 - acc: 0.5435 - val_loss: 0.2341 - val_acc: 0.5826\n",
      "Epoch 17/600\n",
      "0s - loss: 0.2370 - acc: 0.5435 - val_loss: 0.2318 - val_acc: 0.5826\n",
      "Epoch 18/600\n",
      "0s - loss: 0.2348 - acc: 0.5449 - val_loss: 0.2291 - val_acc: 0.5913\n",
      "Epoch 19/600\n",
      "0s - loss: 0.2322 - acc: 0.5594 - val_loss: 0.2263 - val_acc: 0.6348\n",
      "Epoch 20/600\n",
      "0s - loss: 0.2289 - acc: 0.6130 - val_loss: 0.2229 - val_acc: 0.7087\n",
      "Epoch 21/600\n",
      "0s - loss: 0.2252 - acc: 0.6783 - val_loss: 0.2192 - val_acc: 0.7783\n",
      "Epoch 22/600\n",
      "0s - loss: 0.2210 - acc: 0.7493 - val_loss: 0.2151 - val_acc: 0.8043\n",
      "Epoch 23/600\n",
      "0s - loss: 0.2163 - acc: 0.8043 - val_loss: 0.2102 - val_acc: 0.8174\n",
      "Epoch 24/600\n",
      "0s - loss: 0.2109 - acc: 0.8116 - val_loss: 0.2044 - val_acc: 0.8217\n",
      "Epoch 25/600\n",
      "0s - loss: 0.2053 - acc: 0.8159 - val_loss: 0.1985 - val_acc: 0.8174\n",
      "Epoch 26/600\n",
      "0s - loss: 0.1993 - acc: 0.8159 - val_loss: 0.1931 - val_acc: 0.8348\n",
      "Epoch 27/600\n",
      "0s - loss: 0.1932 - acc: 0.8203 - val_loss: 0.1879 - val_acc: 0.8391\n",
      "Epoch 28/600\n",
      "0s - loss: 0.1873 - acc: 0.8377 - val_loss: 0.1819 - val_acc: 0.8435\n",
      "Epoch 29/600\n",
      "0s - loss: 0.1812 - acc: 0.8406 - val_loss: 0.1753 - val_acc: 0.8391\n",
      "Epoch 30/600\n",
      "0s - loss: 0.1749 - acc: 0.8377 - val_loss: 0.1691 - val_acc: 0.8391\n",
      "Epoch 31/600\n",
      "0s - loss: 0.1691 - acc: 0.8290 - val_loss: 0.1633 - val_acc: 0.8391\n",
      "Epoch 32/600\n",
      "0s - loss: 0.1634 - acc: 0.8377 - val_loss: 0.1582 - val_acc: 0.8391\n",
      "Epoch 33/600\n",
      "0s - loss: 0.1581 - acc: 0.8449 - val_loss: 0.1534 - val_acc: 0.8391\n",
      "Epoch 34/600\n",
      "0s - loss: 0.1531 - acc: 0.8435 - val_loss: 0.1489 - val_acc: 0.8391\n",
      "Epoch 35/600\n",
      "0s - loss: 0.1485 - acc: 0.8435 - val_loss: 0.1449 - val_acc: 0.8391\n",
      "Epoch 36/600\n",
      "0s - loss: 0.1441 - acc: 0.8449 - val_loss: 0.1414 - val_acc: 0.8391\n",
      "Epoch 37/600\n",
      "0s - loss: 0.1402 - acc: 0.8464 - val_loss: 0.1381 - val_acc: 0.8435\n",
      "Epoch 38/600\n",
      "0s - loss: 0.1366 - acc: 0.8464 - val_loss: 0.1345 - val_acc: 0.8435\n",
      "Epoch 39/600\n",
      "0s - loss: 0.1331 - acc: 0.8493 - val_loss: 0.1308 - val_acc: 0.8391\n",
      "Epoch 40/600\n",
      "0s - loss: 0.1297 - acc: 0.8536 - val_loss: 0.1278 - val_acc: 0.8391\n",
      "Epoch 41/600\n",
      "0s - loss: 0.1267 - acc: 0.8594 - val_loss: 0.1255 - val_acc: 0.8435\n",
      "Epoch 42/600\n",
      "0s - loss: 0.1237 - acc: 0.8565 - val_loss: 0.1236 - val_acc: 0.8435\n",
      "Epoch 43/600\n",
      "0s - loss: 0.1210 - acc: 0.8551 - val_loss: 0.1221 - val_acc: 0.8522\n",
      "Epoch 44/600\n",
      "0s - loss: 0.1186 - acc: 0.8565 - val_loss: 0.1207 - val_acc: 0.8565\n",
      "Epoch 45/600\n",
      "0s - loss: 0.1164 - acc: 0.8652 - val_loss: 0.1187 - val_acc: 0.8522\n",
      "Epoch 46/600\n",
      "0s - loss: 0.1140 - acc: 0.8696 - val_loss: 0.1159 - val_acc: 0.8522\n",
      "Epoch 47/600\n",
      "0s - loss: 0.1114 - acc: 0.8739 - val_loss: 0.1132 - val_acc: 0.8565\n",
      "Epoch 48/600\n",
      "0s - loss: 0.1099 - acc: 0.8739 - val_loss: 0.1115 - val_acc: 0.8652\n",
      "Epoch 49/600\n",
      "0s - loss: 0.1086 - acc: 0.8783 - val_loss: 0.1102 - val_acc: 0.8696\n",
      "Epoch 50/600\n",
      "0s - loss: 0.1063 - acc: 0.8783 - val_loss: 0.1099 - val_acc: 0.8522\n",
      "Epoch 51/600\n",
      "0s - loss: 0.1042 - acc: 0.8826 - val_loss: 0.1103 - val_acc: 0.8565\n",
      "Epoch 52/600\n",
      "0s - loss: 0.1026 - acc: 0.8812 - val_loss: 0.1099 - val_acc: 0.8522\n",
      "Epoch 53/600\n",
      "0s - loss: 0.1013 - acc: 0.8826 - val_loss: 0.1090 - val_acc: 0.8565\n",
      "Epoch 54/600\n",
      "0s - loss: 0.0997 - acc: 0.8855 - val_loss: 0.1071 - val_acc: 0.8522\n",
      "Epoch 55/600\n",
      "0s - loss: 0.0980 - acc: 0.8855 - val_loss: 0.1051 - val_acc: 0.8652\n",
      "Epoch 56/600\n",
      "0s - loss: 0.0970 - acc: 0.8841 - val_loss: 0.1039 - val_acc: 0.8652\n",
      "Epoch 57/600\n",
      "0s - loss: 0.0958 - acc: 0.8855 - val_loss: 0.1038 - val_acc: 0.8609\n",
      "Epoch 58/600\n",
      "0s - loss: 0.0945 - acc: 0.8884 - val_loss: 0.1042 - val_acc: 0.8565\n",
      "Epoch 59/600\n",
      "0s - loss: 0.0934 - acc: 0.8899 - val_loss: 0.1044 - val_acc: 0.8565\n",
      "Epoch 60/600\n",
      "0s - loss: 0.0925 - acc: 0.8928 - val_loss: 0.1035 - val_acc: 0.8565\n",
      "Epoch 61/600\n",
      "0s - loss: 0.0914 - acc: 0.8928 - val_loss: 0.1018 - val_acc: 0.8652\n",
      "Epoch 62/600\n",
      "0s - loss: 0.0905 - acc: 0.8899 - val_loss: 0.1004 - val_acc: 0.8609\n",
      "Epoch 63/600\n",
      "0s - loss: 0.0901 - acc: 0.8928 - val_loss: 0.0996 - val_acc: 0.8652\n",
      "Epoch 64/600\n",
      "0s - loss: 0.0895 - acc: 0.8928 - val_loss: 0.0994 - val_acc: 0.8652\n",
      "Epoch 65/600\n",
      "0s - loss: 0.0886 - acc: 0.8928 - val_loss: 0.0996 - val_acc: 0.8652\n",
      "Epoch 66/600\n",
      "0s - loss: 0.0877 - acc: 0.8928 - val_loss: 0.0997 - val_acc: 0.8652\n",
      "Epoch 67/600\n",
      "0s - loss: 0.0869 - acc: 0.8971 - val_loss: 0.0996 - val_acc: 0.8652\n",
      "Epoch 68/600\n",
      "0s - loss: 0.0861 - acc: 0.8957 - val_loss: 0.1001 - val_acc: 0.8609\n",
      "Epoch 69/600\n",
      "0s - loss: 0.0858 - acc: 0.9000 - val_loss: 0.1000 - val_acc: 0.8609\n",
      "Epoch 70/600\n",
      "0s - loss: 0.0851 - acc: 0.8986 - val_loss: 0.0988 - val_acc: 0.8652\n",
      "Epoch 71/600\n",
      "0s - loss: 0.0846 - acc: 0.8986 - val_loss: 0.0976 - val_acc: 0.8739\n",
      "Epoch 72/600\n",
      "0s - loss: 0.0841 - acc: 0.8971 - val_loss: 0.0974 - val_acc: 0.8739\n",
      "Epoch 73/600\n",
      "0s - loss: 0.0835 - acc: 0.8986 - val_loss: 0.0976 - val_acc: 0.8739\n",
      "Epoch 74/600\n",
      "0s - loss: 0.0831 - acc: 0.9000 - val_loss: 0.0978 - val_acc: 0.8739\n",
      "Epoch 75/600\n",
      "0s - loss: 0.0827 - acc: 0.8986 - val_loss: 0.0979 - val_acc: 0.8739\n",
      "Epoch 76/600\n",
      "0s - loss: 0.0824 - acc: 0.8971 - val_loss: 0.0975 - val_acc: 0.8739\n",
      "Epoch 77/600\n",
      "0s - loss: 0.0820 - acc: 0.8986 - val_loss: 0.0969 - val_acc: 0.8739\n",
      "Epoch 78/600\n",
      "0s - loss: 0.0816 - acc: 0.8986 - val_loss: 0.0961 - val_acc: 0.8739\n",
      "Epoch 79/600\n",
      "0s - loss: 0.0811 - acc: 0.9000 - val_loss: 0.0951 - val_acc: 0.8739\n",
      "Epoch 80/600\n",
      "0s - loss: 0.0808 - acc: 0.9000 - val_loss: 0.0947 - val_acc: 0.8739\n",
      "Epoch 81/600\n",
      "0s - loss: 0.0804 - acc: 0.9000 - val_loss: 0.0947 - val_acc: 0.8739\n",
      "Epoch 82/600\n",
      "0s - loss: 0.0801 - acc: 0.9000 - val_loss: 0.0947 - val_acc: 0.8783\n",
      "Epoch 83/600\n",
      "0s - loss: 0.0798 - acc: 0.9058 - val_loss: 0.0948 - val_acc: 0.8783\n",
      "Epoch 84/600\n",
      "0s - loss: 0.0796 - acc: 0.9029 - val_loss: 0.0946 - val_acc: 0.8783\n",
      "Epoch 85/600\n",
      "0s - loss: 0.0792 - acc: 0.9043 - val_loss: 0.0937 - val_acc: 0.8826\n",
      "Epoch 86/600\n",
      "0s - loss: 0.0789 - acc: 0.9014 - val_loss: 0.0928 - val_acc: 0.8870\n",
      "Epoch 87/600\n",
      "0s - loss: 0.0789 - acc: 0.9014 - val_loss: 0.0923 - val_acc: 0.8870\n",
      "Epoch 88/600\n",
      "0s - loss: 0.0792 - acc: 0.8957 - val_loss: 0.0923 - val_acc: 0.8870\n",
      "Epoch 89/600\n",
      "0s - loss: 0.0786 - acc: 0.9014 - val_loss: 0.0932 - val_acc: 0.8826\n",
      "Epoch 90/600\n",
      "0s - loss: 0.0779 - acc: 0.9000 - val_loss: 0.0944 - val_acc: 0.8826\n",
      "Epoch 91/600\n",
      "0s - loss: 0.0783 - acc: 0.9058 - val_loss: 0.0948 - val_acc: 0.8783\n",
      "Epoch 92/600\n",
      "0s - loss: 0.0781 - acc: 0.9072 - val_loss: 0.0936 - val_acc: 0.8826\n",
      "Epoch 93/600\n",
      "0s - loss: 0.0775 - acc: 0.9043 - val_loss: 0.0924 - val_acc: 0.8870\n",
      "Epoch 94/600\n",
      "0s - loss: 0.0772 - acc: 0.9029 - val_loss: 0.0918 - val_acc: 0.8870\n",
      "Epoch 95/600\n",
      "0s - loss: 0.0774 - acc: 0.9029 - val_loss: 0.0917 - val_acc: 0.8870\n",
      "Epoch 96/600\n",
      "0s - loss: 0.0773 - acc: 0.9029 - val_loss: 0.0919 - val_acc: 0.8870\n",
      "Epoch 97/600\n",
      "0s - loss: 0.0768 - acc: 0.9043 - val_loss: 0.0924 - val_acc: 0.8870\n",
      "Epoch 98/600\n",
      "0s - loss: 0.0768 - acc: 0.9014 - val_loss: 0.0929 - val_acc: 0.8870\n",
      "Epoch 99/600\n",
      "0s - loss: 0.0765 - acc: 0.9058 - val_loss: 0.0926 - val_acc: 0.8870\n",
      "Epoch 100/600\n",
      "0s - loss: 0.0763 - acc: 0.9058 - val_loss: 0.0922 - val_acc: 0.8870\n",
      "Epoch 101/600\n",
      "0s - loss: 0.0763 - acc: 0.9043 - val_loss: 0.0917 - val_acc: 0.8870\n",
      "Epoch 102/600\n",
      "0s - loss: 0.0762 - acc: 0.9072 - val_loss: 0.0918 - val_acc: 0.8870\n",
      "Epoch 103/600\n",
      "0s - loss: 0.0761 - acc: 0.9029 - val_loss: 0.0918 - val_acc: 0.8870\n",
      "Epoch 104/600\n",
      "0s - loss: 0.0759 - acc: 0.9058 - val_loss: 0.0918 - val_acc: 0.8870\n",
      "Epoch 105/600\n",
      "0s - loss: 0.0757 - acc: 0.9043 - val_loss: 0.0921 - val_acc: 0.8870\n",
      "Epoch 106/600\n",
      "0s - loss: 0.0758 - acc: 0.9058 - val_loss: 0.0924 - val_acc: 0.8870\n",
      "Epoch 107/600\n",
      "0s - loss: 0.0756 - acc: 0.9058 - val_loss: 0.0922 - val_acc: 0.8870\n",
      "Epoch 108/600\n",
      "0s - loss: 0.0755 - acc: 0.9043 - val_loss: 0.0921 - val_acc: 0.8870\n",
      "Epoch 109/600\n",
      "0s - loss: 0.0754 - acc: 0.9058 - val_loss: 0.0920 - val_acc: 0.8870\n",
      "Epoch 110/600\n",
      "0s - loss: 0.0753 - acc: 0.9043 - val_loss: 0.0918 - val_acc: 0.8870\n",
      "Epoch 111/600\n",
      "0s - loss: 0.0752 - acc: 0.9072 - val_loss: 0.0919 - val_acc: 0.8870\n",
      "Epoch 112/600\n",
      "0s - loss: 0.0751 - acc: 0.9058 - val_loss: 0.0923 - val_acc: 0.8870\n",
      "Epoch 113/600\n",
      "0s - loss: 0.0750 - acc: 0.9043 - val_loss: 0.0924 - val_acc: 0.8870\n",
      "Epoch 114/600\n",
      "0s - loss: 0.0749 - acc: 0.9058 - val_loss: 0.0920 - val_acc: 0.8826\n",
      "Epoch 115/600\n",
      "0s - loss: 0.0748 - acc: 0.9058 - val_loss: 0.0917 - val_acc: 0.8826\n",
      "Epoch 116/600\n",
      "0s - loss: 0.0750 - acc: 0.9087 - val_loss: 0.0916 - val_acc: 0.8783\n",
      "Epoch 117/600\n",
      "0s - loss: 0.0749 - acc: 0.9087 - val_loss: 0.0919 - val_acc: 0.8826\n",
      "Epoch 118/600\n",
      "0s - loss: 0.0748 - acc: 0.9043 - val_loss: 0.0922 - val_acc: 0.8826\n",
      "Epoch 119/600\n",
      "0s - loss: 0.0746 - acc: 0.9058 - val_loss: 0.0921 - val_acc: 0.8826\n",
      "Epoch 120/600\n",
      "0s - loss: 0.0745 - acc: 0.9058 - val_loss: 0.0922 - val_acc: 0.8826\n",
      "Epoch 121/600\n",
      "0s - loss: 0.0745 - acc: 0.9043 - val_loss: 0.0925 - val_acc: 0.8826\n",
      "Epoch 122/600\n",
      "0s - loss: 0.0748 - acc: 0.9058 - val_loss: 0.0929 - val_acc: 0.8870\n",
      "Epoch 123/600\n",
      "0s - loss: 0.0746 - acc: 0.9072 - val_loss: 0.0923 - val_acc: 0.8826\n",
      "Epoch 124/600\n",
      "0s - loss: 0.0742 - acc: 0.9043 - val_loss: 0.0916 - val_acc: 0.8826\n",
      "Epoch 125/600\n",
      "0s - loss: 0.0743 - acc: 0.9058 - val_loss: 0.0912 - val_acc: 0.8826\n",
      "Epoch 126/600\n",
      "0s - loss: 0.0747 - acc: 0.9101 - val_loss: 0.0912 - val_acc: 0.8826\n",
      "Epoch 127/600\n",
      "0s - loss: 0.0746 - acc: 0.9101 - val_loss: 0.0916 - val_acc: 0.8826\n",
      "Epoch 128/600\n",
      "0s - loss: 0.0741 - acc: 0.9087 - val_loss: 0.0924 - val_acc: 0.8826\n",
      "Epoch 129/600\n",
      "0s - loss: 0.0742 - acc: 0.9058 - val_loss: 0.0934 - val_acc: 0.8870\n",
      "Epoch 130/600\n",
      "0s - loss: 0.0745 - acc: 0.9072 - val_loss: 0.0935 - val_acc: 0.8870\n",
      "Epoch 131/600\n",
      "0s - loss: 0.0744 - acc: 0.9072 - val_loss: 0.0928 - val_acc: 0.8826\n",
      "Epoch 132/600\n",
      "0s - loss: 0.0742 - acc: 0.9058 - val_loss: 0.0919 - val_acc: 0.8826\n",
      "Epoch 133/600\n",
      "0s - loss: 0.0741 - acc: 0.9043 - val_loss: 0.0918 - val_acc: 0.8826\n",
      "Epoch 134/600\n",
      "0s - loss: 0.0740 - acc: 0.9058 - val_loss: 0.0921 - val_acc: 0.8826\n",
      "Epoch 135/600\n",
      "0s - loss: 0.0739 - acc: 0.9058 - val_loss: 0.0927 - val_acc: 0.8826\n",
      "Epoch 136/600\n",
      "0s - loss: 0.0738 - acc: 0.9058 - val_loss: 0.0930 - val_acc: 0.8826\n",
      "Epoch 137/600\n",
      "0s - loss: 0.0740 - acc: 0.9043 - val_loss: 0.0930 - val_acc: 0.8826\n",
      "Epoch 138/600\n",
      "0s - loss: 0.0738 - acc: 0.9043 - val_loss: 0.0923 - val_acc: 0.8826\n",
      "Epoch 139/600\n",
      "0s - loss: 0.0738 - acc: 0.9058 - val_loss: 0.0918 - val_acc: 0.8826\n",
      "Epoch 140/600\n",
      "0s - loss: 0.0738 - acc: 0.9087 - val_loss: 0.0916 - val_acc: 0.8783\n",
      "Epoch 141/600\n",
      "0s - loss: 0.0739 - acc: 0.9101 - val_loss: 0.0916 - val_acc: 0.8783\n",
      "Epoch 142/600\n",
      "0s - loss: 0.0737 - acc: 0.9101 - val_loss: 0.0920 - val_acc: 0.8826\n",
      "Epoch 143/600\n",
      "0s - loss: 0.0736 - acc: 0.9072 - val_loss: 0.0926 - val_acc: 0.8826\n",
      "Epoch 144/600\n",
      "0s - loss: 0.0736 - acc: 0.9043 - val_loss: 0.0929 - val_acc: 0.8826\n",
      "Epoch 145/600\n",
      "0s - loss: 0.0738 - acc: 0.9058 - val_loss: 0.0930 - val_acc: 0.8826\n",
      "Epoch 146/600\n",
      "0s - loss: 0.0737 - acc: 0.9072 - val_loss: 0.0931 - val_acc: 0.8826\n",
      "Epoch 147/600\n",
      "0s - loss: 0.0738 - acc: 0.9058 - val_loss: 0.0928 - val_acc: 0.8826\n",
      "Epoch 148/600\n",
      "0s - loss: 0.0736 - acc: 0.9058 - val_loss: 0.0925 - val_acc: 0.8826\n",
      "Epoch 149/600\n",
      "0s - loss: 0.0734 - acc: 0.9058 - val_loss: 0.0922 - val_acc: 0.8783\n",
      "Epoch 150/600\n",
      "0s - loss: 0.0734 - acc: 0.9072 - val_loss: 0.0920 - val_acc: 0.8783\n",
      "Epoch 151/600\n",
      "0s - loss: 0.0734 - acc: 0.9072 - val_loss: 0.0921 - val_acc: 0.8783\n",
      "Epoch 152/600\n",
      "0s - loss: 0.0734 - acc: 0.9072 - val_loss: 0.0925 - val_acc: 0.8826\n",
      "Epoch 153/600\n",
      "0s - loss: 0.0733 - acc: 0.9058 - val_loss: 0.0933 - val_acc: 0.8826\n",
      "Epoch 154/600\n",
      "0s - loss: 0.0735 - acc: 0.9029 - val_loss: 0.0938 - val_acc: 0.8826\n",
      "Epoch 155/600\n",
      "0s - loss: 0.0738 - acc: 0.9043 - val_loss: 0.0936 - val_acc: 0.8826\n",
      "Epoch 156/600\n",
      "0s - loss: 0.0736 - acc: 0.9029 - val_loss: 0.0928 - val_acc: 0.8826\n",
      "Epoch 157/600\n",
      "0s - loss: 0.0732 - acc: 0.9058 - val_loss: 0.0922 - val_acc: 0.8783\n",
      "Epoch 158/600\n",
      "0s - loss: 0.0733 - acc: 0.9058 - val_loss: 0.0920 - val_acc: 0.8783\n",
      "Epoch 159/600\n",
      "0s - loss: 0.0734 - acc: 0.9087 - val_loss: 0.0920 - val_acc: 0.8783\n",
      "Epoch 160/600\n",
      "0s - loss: 0.0733 - acc: 0.9087 - val_loss: 0.0923 - val_acc: 0.8783\n",
      "Epoch 161/600\n",
      "0s - loss: 0.0733 - acc: 0.9072 - val_loss: 0.0926 - val_acc: 0.8783\n",
      "Epoch 162/600\n",
      "0s - loss: 0.0732 - acc: 0.9043 - val_loss: 0.0927 - val_acc: 0.8783\n",
      "Epoch 163/600\n",
      "0s - loss: 0.0732 - acc: 0.9058 - val_loss: 0.0926 - val_acc: 0.8783\n",
      "Epoch 164/600\n",
      "0s - loss: 0.0732 - acc: 0.9058 - val_loss: 0.0925 - val_acc: 0.8783\n",
      "Epoch 165/600\n",
      "0s - loss: 0.0732 - acc: 0.9072 - val_loss: 0.0923 - val_acc: 0.8783\n",
      "Epoch 166/600\n",
      "0s - loss: 0.0732 - acc: 0.9072 - val_loss: 0.0920 - val_acc: 0.8783\n",
      "Epoch 167/600\n",
      "0s - loss: 0.0732 - acc: 0.9072 - val_loss: 0.0918 - val_acc: 0.8783\n",
      "Epoch 168/600\n",
      "0s - loss: 0.0733 - acc: 0.9087 - val_loss: 0.0920 - val_acc: 0.8783\n",
      "Epoch 169/600\n",
      "0s - loss: 0.0731 - acc: 0.9087 - val_loss: 0.0925 - val_acc: 0.8783\n",
      "Epoch 170/600\n",
      "0s - loss: 0.0731 - acc: 0.9087 - val_loss: 0.0930 - val_acc: 0.8826\n",
      "Epoch 171/600\n",
      "0s - loss: 0.0736 - acc: 0.9072 - val_loss: 0.0931 - val_acc: 0.8826\n",
      "Epoch 172/600\n",
      "0s - loss: 0.0735 - acc: 0.9087 - val_loss: 0.0926 - val_acc: 0.8783\n",
      "Epoch 173/600\n",
      "0s - loss: 0.0731 - acc: 0.9087 - val_loss: 0.0923 - val_acc: 0.8783\n",
      "Epoch 174/600\n",
      "0s - loss: 0.0731 - acc: 0.9116 - val_loss: 0.0922 - val_acc: 0.8783\n",
      "Epoch 175/600\n",
      "0s - loss: 0.0730 - acc: 0.9072 - val_loss: 0.0924 - val_acc: 0.8783\n",
      "Epoch 176/600\n",
      "0s - loss: 0.0729 - acc: 0.9101 - val_loss: 0.0928 - val_acc: 0.8783\n",
      "Epoch 177/600\n",
      "0s - loss: 0.0730 - acc: 0.9087 - val_loss: 0.0933 - val_acc: 0.8783\n",
      "Epoch 178/600\n",
      "0s - loss: 0.0733 - acc: 0.9043 - val_loss: 0.0937 - val_acc: 0.8870\n",
      "Epoch 179/600\n",
      "0s - loss: 0.0735 - acc: 0.9058 - val_loss: 0.0934 - val_acc: 0.8826\n",
      "Epoch 180/600\n",
      "0s - loss: 0.0731 - acc: 0.9058 - val_loss: 0.0928 - val_acc: 0.8783\n",
      "Epoch 181/600\n",
      "0s - loss: 0.0730 - acc: 0.9072 - val_loss: 0.0922 - val_acc: 0.8783\n",
      "Epoch 182/600\n",
      "0s - loss: 0.0732 - acc: 0.9101 - val_loss: 0.0922 - val_acc: 0.8783\n",
      "Epoch 183/600\n",
      "0s - loss: 0.0730 - acc: 0.9116 - val_loss: 0.0927 - val_acc: 0.8783\n",
      "Epoch 184/600\n",
      "0s - loss: 0.0728 - acc: 0.9101 - val_loss: 0.0932 - val_acc: 0.8783\n",
      "Epoch 185/600\n",
      "0s - loss: 0.0729 - acc: 0.9058 - val_loss: 0.0936 - val_acc: 0.8783\n",
      "Epoch 186/600\n",
      "0s - loss: 0.0731 - acc: 0.9072 - val_loss: 0.0938 - val_acc: 0.8783\n",
      "Epoch 187/600\n",
      "0s - loss: 0.0732 - acc: 0.9058 - val_loss: 0.0936 - val_acc: 0.8783\n",
      "Epoch 188/600\n",
      "0s - loss: 0.0728 - acc: 0.9087 - val_loss: 0.0928 - val_acc: 0.8783\n",
      "Epoch 189/600\n",
      "0s - loss: 0.0729 - acc: 0.9116 - val_loss: 0.0922 - val_acc: 0.8783\n",
      "Epoch 190/600\n",
      "0s - loss: 0.0735 - acc: 0.9101 - val_loss: 0.0921 - val_acc: 0.8783\n",
      "Epoch 191/600\n",
      "0s - loss: 0.0737 - acc: 0.9072 - val_loss: 0.0924 - val_acc: 0.8783\n",
      "Epoch 192/600\n",
      "0s - loss: 0.0732 - acc: 0.9101 - val_loss: 0.0929 - val_acc: 0.8783\n",
      "Epoch 193/600\n",
      "0s - loss: 0.0728 - acc: 0.9116 - val_loss: 0.0936 - val_acc: 0.8783\n",
      "Epoch 194/600\n",
      "0s - loss: 0.0727 - acc: 0.9116 - val_loss: 0.0940 - val_acc: 0.8783\n",
      "Epoch 195/600\n",
      "0s - loss: 0.0729 - acc: 0.9101 - val_loss: 0.0943 - val_acc: 0.8783\n",
      "Epoch 196/600\n",
      "0s - loss: 0.0731 - acc: 0.9072 - val_loss: 0.0941 - val_acc: 0.8783\n",
      "Epoch 197/600\n",
      "0s - loss: 0.0729 - acc: 0.9101 - val_loss: 0.0938 - val_acc: 0.8783\n",
      "Epoch 198/600\n",
      "0s - loss: 0.0729 - acc: 0.9116 - val_loss: 0.0934 - val_acc: 0.8783\n",
      "Epoch 199/600\n",
      "0s - loss: 0.0727 - acc: 0.9101 - val_loss: 0.0934 - val_acc: 0.8783\n",
      "Epoch 200/600\n",
      "0s - loss: 0.0728 - acc: 0.9116 - val_loss: 0.0937 - val_acc: 0.8783\n",
      "Epoch 201/600\n",
      "0s - loss: 0.0726 - acc: 0.9101 - val_loss: 0.0944 - val_acc: 0.8783\n",
      "Epoch 202/600\n",
      "0s - loss: 0.0730 - acc: 0.9101 - val_loss: 0.0945 - val_acc: 0.8783\n",
      "Epoch 203/600\n",
      "0s - loss: 0.0726 - acc: 0.9130 - val_loss: 0.0940 - val_acc: 0.8783\n",
      "Epoch 204/600\n",
      "0s - loss: 0.0726 - acc: 0.9101 - val_loss: 0.0935 - val_acc: 0.8783\n",
      "Epoch 205/600\n",
      "0s - loss: 0.0730 - acc: 0.9101 - val_loss: 0.0935 - val_acc: 0.8783\n",
      "Epoch 206/600\n",
      "0s - loss: 0.0730 - acc: 0.9101 - val_loss: 0.0938 - val_acc: 0.8783\n",
      "Epoch 207/600\n",
      "0s - loss: 0.0728 - acc: 0.9101 - val_loss: 0.0942 - val_acc: 0.8783\n",
      "Epoch 208/600\n",
      "0s - loss: 0.0726 - acc: 0.9101 - val_loss: 0.0945 - val_acc: 0.8783\n",
      "Epoch 209/600\n",
      "0s - loss: 0.0726 - acc: 0.9101 - val_loss: 0.0947 - val_acc: 0.8783\n",
      "Epoch 210/600\n",
      "0s - loss: 0.0726 - acc: 0.9101 - val_loss: 0.0947 - val_acc: 0.8783\n",
      "Epoch 211/600\n",
      "0s - loss: 0.0726 - acc: 0.9101 - val_loss: 0.0947 - val_acc: 0.8783\n",
      "Epoch 212/600\n",
      "0s - loss: 0.0725 - acc: 0.9101 - val_loss: 0.0945 - val_acc: 0.8783\n",
      "Epoch 213/600\n",
      "0s - loss: 0.0727 - acc: 0.9072 - val_loss: 0.0943 - val_acc: 0.8783\n",
      "Epoch 214/600\n",
      "0s - loss: 0.0728 - acc: 0.9116 - val_loss: 0.0945 - val_acc: 0.8783\n",
      "Epoch 215/600\n",
      "0s - loss: 0.0726 - acc: 0.9087 - val_loss: 0.0951 - val_acc: 0.8783\n",
      "Epoch 216/600\n",
      "0s - loss: 0.0724 - acc: 0.9101 - val_loss: 0.0956 - val_acc: 0.8783\n",
      "Epoch 217/600\n",
      "0s - loss: 0.0727 - acc: 0.9101 - val_loss: 0.0958 - val_acc: 0.8783\n",
      "Epoch 218/600\n",
      "0s - loss: 0.0727 - acc: 0.9101 - val_loss: 0.0953 - val_acc: 0.8783\n",
      "Epoch 219/600\n",
      "0s - loss: 0.0725 - acc: 0.9101 - val_loss: 0.0948 - val_acc: 0.8783\n",
      "Epoch 220/600\n",
      "0s - loss: 0.0727 - acc: 0.9116 - val_loss: 0.0947 - val_acc: 0.8783\n",
      "Epoch 221/600\n",
      "0s - loss: 0.0725 - acc: 0.9116 - val_loss: 0.0949 - val_acc: 0.8783\n",
      "Epoch 222/600\n",
      "0s - loss: 0.0724 - acc: 0.9116 - val_loss: 0.0951 - val_acc: 0.8783\n",
      "Epoch 223/600\n",
      "0s - loss: 0.0725 - acc: 0.9116 - val_loss: 0.0954 - val_acc: 0.8783\n",
      "Epoch 224/600\n",
      "0s - loss: 0.0728 - acc: 0.9087 - val_loss: 0.0951 - val_acc: 0.8783\n",
      "Epoch 225/600\n",
      "0s - loss: 0.0724 - acc: 0.9101 - val_loss: 0.0945 - val_acc: 0.8783\n",
      "Epoch 226/600\n",
      "0s - loss: 0.0723 - acc: 0.9116 - val_loss: 0.0941 - val_acc: 0.8826\n",
      "Epoch 227/600\n",
      "0s - loss: 0.0730 - acc: 0.9116 - val_loss: 0.0940 - val_acc: 0.8826\n",
      "Epoch 228/600\n",
      "0s - loss: 0.0732 - acc: 0.9116 - val_loss: 0.0942 - val_acc: 0.8826\n",
      "Epoch 229/600\n",
      "0s - loss: 0.0727 - acc: 0.9101 - val_loss: 0.0947 - val_acc: 0.8783\n",
      "Epoch 230/600\n",
      "0s - loss: 0.0722 - acc: 0.9101 - val_loss: 0.0952 - val_acc: 0.8783\n",
      "Epoch 231/600\n",
      "0s - loss: 0.0726 - acc: 0.9101 - val_loss: 0.0955 - val_acc: 0.8783\n",
      "Epoch 232/600\n",
      "0s - loss: 0.0730 - acc: 0.9087 - val_loss: 0.0954 - val_acc: 0.8783\n",
      "Epoch 233/600\n",
      "0s - loss: 0.0728 - acc: 0.9072 - val_loss: 0.0950 - val_acc: 0.8783\n",
      "Epoch 234/600\n",
      "0s - loss: 0.0725 - acc: 0.9101 - val_loss: 0.0945 - val_acc: 0.8783\n",
      "Epoch 235/600\n",
      "0s - loss: 0.0723 - acc: 0.9116 - val_loss: 0.0943 - val_acc: 0.8826\n",
      "Epoch 236/600\n",
      "0s - loss: 0.0724 - acc: 0.9101 - val_loss: 0.0943 - val_acc: 0.8826\n",
      "Epoch 237/600\n",
      "0s - loss: 0.0725 - acc: 0.9116 - val_loss: 0.0944 - val_acc: 0.8783\n",
      "Epoch 238/600\n",
      "0s - loss: 0.0723 - acc: 0.9116 - val_loss: 0.0948 - val_acc: 0.8783\n",
      "Epoch 239/600\n",
      "0s - loss: 0.0726 - acc: 0.9101 - val_loss: 0.0949 - val_acc: 0.8783\n",
      "Epoch 240/600\n",
      "0s - loss: 0.0725 - acc: 0.9101 - val_loss: 0.0948 - val_acc: 0.8783\n",
      "Epoch 241/600\n",
      "0s - loss: 0.0723 - acc: 0.9101 - val_loss: 0.0948 - val_acc: 0.8783\n",
      "Epoch 242/600\n",
      "0s - loss: 0.0722 - acc: 0.9116 - val_loss: 0.0947 - val_acc: 0.8783\n",
      "Epoch 243/600\n",
      "0s - loss: 0.0723 - acc: 0.9101 - val_loss: 0.0946 - val_acc: 0.8826\n",
      "Epoch 244/600\n",
      "0s - loss: 0.0723 - acc: 0.9130 - val_loss: 0.0947 - val_acc: 0.8826\n",
      "Epoch 245/600\n",
      "0s - loss: 0.0724 - acc: 0.9145 - val_loss: 0.0948 - val_acc: 0.8826\n",
      "Epoch 246/600\n",
      "0s - loss: 0.0724 - acc: 0.9130 - val_loss: 0.0950 - val_acc: 0.8826\n",
      "Epoch 247/600\n",
      "0s - loss: 0.0724 - acc: 0.9116 - val_loss: 0.0953 - val_acc: 0.8783\n",
      "Epoch 248/600\n",
      "0s - loss: 0.0722 - acc: 0.9072 - val_loss: 0.0956 - val_acc: 0.8783\n",
      "Epoch 249/600\n",
      "0s - loss: 0.0724 - acc: 0.9116 - val_loss: 0.0958 - val_acc: 0.8783\n",
      "Epoch 250/600\n",
      "0s - loss: 0.0723 - acc: 0.9130 - val_loss: 0.0957 - val_acc: 0.8783\n",
      "Epoch 251/600\n",
      "0s - loss: 0.0722 - acc: 0.9116 - val_loss: 0.0957 - val_acc: 0.8826\n",
      "Epoch 252/600\n",
      "0s - loss: 0.0723 - acc: 0.9116 - val_loss: 0.0959 - val_acc: 0.8826\n",
      "Epoch 253/600\n",
      "0s - loss: 0.0724 - acc: 0.9101 - val_loss: 0.0961 - val_acc: 0.8826\n",
      "Epoch 254/600\n",
      "0s - loss: 0.0723 - acc: 0.9116 - val_loss: 0.0961 - val_acc: 0.8826\n",
      "Epoch 255/600\n",
      "0s - loss: 0.0723 - acc: 0.9130 - val_loss: 0.0961 - val_acc: 0.8826\n",
      "Epoch 256/600\n",
      "0s - loss: 0.0723 - acc: 0.9116 - val_loss: 0.0961 - val_acc: 0.8783\n",
      "Epoch 257/600\n",
      "0s - loss: 0.0722 - acc: 0.9116 - val_loss: 0.0959 - val_acc: 0.8826\n",
      "Epoch 258/600\n",
      "0s - loss: 0.0722 - acc: 0.9101 - val_loss: 0.0958 - val_acc: 0.8826\n",
      "Epoch 259/600\n",
      "0s - loss: 0.0722 - acc: 0.9116 - val_loss: 0.0957 - val_acc: 0.8826\n",
      "Epoch 260/600\n",
      "0s - loss: 0.0722 - acc: 0.9116 - val_loss: 0.0957 - val_acc: 0.8826\n",
      "Epoch 261/600\n",
      "0s - loss: 0.0722 - acc: 0.9130 - val_loss: 0.0956 - val_acc: 0.8826\n",
      "Epoch 262/600\n",
      "0s - loss: 0.0722 - acc: 0.9116 - val_loss: 0.0957 - val_acc: 0.8826\n",
      "Epoch 263/600\n",
      "0s - loss: 0.0721 - acc: 0.9130 - val_loss: 0.0957 - val_acc: 0.8826\n",
      "Epoch 264/600\n",
      "0s - loss: 0.0721 - acc: 0.9145 - val_loss: 0.0958 - val_acc: 0.8826\n",
      "Epoch 265/600\n",
      "0s - loss: 0.0720 - acc: 0.9130 - val_loss: 0.0960 - val_acc: 0.8783\n",
      "Epoch 266/600\n",
      "0s - loss: 0.0721 - acc: 0.9116 - val_loss: 0.0962 - val_acc: 0.8783\n",
      "Epoch 267/600\n",
      "0s - loss: 0.0722 - acc: 0.9101 - val_loss: 0.0961 - val_acc: 0.8783\n",
      "Epoch 268/600\n",
      "0s - loss: 0.0721 - acc: 0.9101 - val_loss: 0.0960 - val_acc: 0.8826\n",
      "Epoch 269/600\n",
      "0s - loss: 0.0721 - acc: 0.9116 - val_loss: 0.0958 - val_acc: 0.8826\n",
      "Epoch 270/600\n",
      "0s - loss: 0.0722 - acc: 0.9116 - val_loss: 0.0957 - val_acc: 0.8826\n",
      "Epoch 271/600\n",
      "0s - loss: 0.0722 - acc: 0.9116 - val_loss: 0.0959 - val_acc: 0.8826\n",
      "Epoch 272/600\n",
      "0s - loss: 0.0721 - acc: 0.9116 - val_loss: 0.0963 - val_acc: 0.8826\n",
      "Epoch 273/600\n",
      "0s - loss: 0.0721 - acc: 0.9087 - val_loss: 0.0967 - val_acc: 0.8783\n",
      "Epoch 274/600\n",
      "0s - loss: 0.0724 - acc: 0.9101 - val_loss: 0.0969 - val_acc: 0.8783\n",
      "Epoch 275/600\n",
      "0s - loss: 0.0726 - acc: 0.9116 - val_loss: 0.0967 - val_acc: 0.8783\n",
      "Epoch 276/600\n",
      "0s - loss: 0.0722 - acc: 0.9130 - val_loss: 0.0962 - val_acc: 0.8826\n",
      "Epoch 277/600\n",
      "0s - loss: 0.0720 - acc: 0.9116 - val_loss: 0.0958 - val_acc: 0.8826\n",
      "Epoch 278/600\n",
      "0s - loss: 0.0724 - acc: 0.9116 - val_loss: 0.0957 - val_acc: 0.8826\n",
      "Epoch 279/600\n",
      "0s - loss: 0.0726 - acc: 0.9116 - val_loss: 0.0960 - val_acc: 0.8826\n",
      "Epoch 280/600\n",
      "0s - loss: 0.0720 - acc: 0.9116 - val_loss: 0.0967 - val_acc: 0.8826\n",
      "Epoch 281/600\n",
      "0s - loss: 0.0720 - acc: 0.9116 - val_loss: 0.0974 - val_acc: 0.8783\n",
      "Epoch 282/600\n",
      "0s - loss: 0.0727 - acc: 0.9101 - val_loss: 0.0978 - val_acc: 0.8739\n",
      "Epoch 283/600\n",
      "0s - loss: 0.0730 - acc: 0.9116 - val_loss: 0.0973 - val_acc: 0.8783\n",
      "Epoch 284/600\n",
      "0s - loss: 0.0724 - acc: 0.9101 - val_loss: 0.0965 - val_acc: 0.8826\n",
      "Epoch 285/600\n",
      "0s - loss: 0.0719 - acc: 0.9116 - val_loss: 0.0961 - val_acc: 0.8826\n",
      "Epoch 286/600\n",
      "0s - loss: 0.0725 - acc: 0.9116 - val_loss: 0.0962 - val_acc: 0.8826\n",
      "Epoch 287/600\n",
      "0s - loss: 0.0724 - acc: 0.9101 - val_loss: 0.0966 - val_acc: 0.8826\n",
      "Epoch 288/600\n",
      "0s - loss: 0.0719 - acc: 0.9116 - val_loss: 0.0973 - val_acc: 0.8826\n",
      "Epoch 289/600\n",
      "0s - loss: 0.0721 - acc: 0.9116 - val_loss: 0.0978 - val_acc: 0.8739\n",
      "Epoch 290/600\n",
      "0s - loss: 0.0726 - acc: 0.9116 - val_loss: 0.0979 - val_acc: 0.8739\n",
      "Epoch 291/600\n",
      "0s - loss: 0.0725 - acc: 0.9116 - val_loss: 0.0974 - val_acc: 0.8783\n",
      "Epoch 292/600\n",
      "0s - loss: 0.0719 - acc: 0.9116 - val_loss: 0.0968 - val_acc: 0.8826\n",
      "Epoch 293/600\n",
      "0s - loss: 0.0720 - acc: 0.9130 - val_loss: 0.0964 - val_acc: 0.8826\n",
      "Epoch 294/600\n",
      "0s - loss: 0.0724 - acc: 0.9116 - val_loss: 0.0964 - val_acc: 0.8826\n",
      "Epoch 295/600\n",
      "0s - loss: 0.0722 - acc: 0.9101 - val_loss: 0.0968 - val_acc: 0.8826\n",
      "Epoch 296/600\n",
      "0s - loss: 0.0719 - acc: 0.9145 - val_loss: 0.0973 - val_acc: 0.8826\n",
      "Epoch 297/600\n",
      "0s - loss: 0.0719 - acc: 0.9101 - val_loss: 0.0976 - val_acc: 0.8783\n",
      "Epoch 298/600\n",
      "0s - loss: 0.0721 - acc: 0.9116 - val_loss: 0.0975 - val_acc: 0.8783\n",
      "Epoch 299/600\n",
      "0s - loss: 0.0720 - acc: 0.9130 - val_loss: 0.0971 - val_acc: 0.8826\n",
      "Epoch 300/600\n",
      "0s - loss: 0.0720 - acc: 0.9145 - val_loss: 0.0967 - val_acc: 0.8826\n",
      "Epoch 301/600\n",
      "0s - loss: 0.0719 - acc: 0.9116 - val_loss: 0.0968 - val_acc: 0.8826\n",
      "Epoch 302/600\n",
      "0s - loss: 0.0719 - acc: 0.9116 - val_loss: 0.0968 - val_acc: 0.8826\n",
      "Epoch 303/600\n",
      "0s - loss: 0.0719 - acc: 0.9116 - val_loss: 0.0970 - val_acc: 0.8826\n",
      "Epoch 304/600\n",
      "0s - loss: 0.0719 - acc: 0.9130 - val_loss: 0.0971 - val_acc: 0.8826\n",
      "Epoch 305/600\n",
      "0s - loss: 0.0718 - acc: 0.9130 - val_loss: 0.0969 - val_acc: 0.8826\n",
      "Epoch 306/600\n",
      "0s - loss: 0.0718 - acc: 0.9145 - val_loss: 0.0969 - val_acc: 0.8826\n",
      "Epoch 307/600\n",
      "0s - loss: 0.0718 - acc: 0.9145 - val_loss: 0.0971 - val_acc: 0.8826\n",
      "Epoch 308/600\n",
      "0s - loss: 0.0718 - acc: 0.9145 - val_loss: 0.0973 - val_acc: 0.8826\n",
      "Epoch 309/600\n",
      "0s - loss: 0.0718 - acc: 0.9130 - val_loss: 0.0975 - val_acc: 0.8783\n",
      "Epoch 310/600\n",
      "0s - loss: 0.0719 - acc: 0.9130 - val_loss: 0.0975 - val_acc: 0.8826\n",
      "Epoch 311/600\n",
      "0s - loss: 0.0719 - acc: 0.9130 - val_loss: 0.0972 - val_acc: 0.8826\n",
      "Epoch 312/600\n",
      "0s - loss: 0.0717 - acc: 0.9130 - val_loss: 0.0968 - val_acc: 0.8826\n",
      "Epoch 313/600\n",
      "0s - loss: 0.0721 - acc: 0.9130 - val_loss: 0.0967 - val_acc: 0.8826\n",
      "Epoch 314/600\n",
      "0s - loss: 0.0724 - acc: 0.9130 - val_loss: 0.0969 - val_acc: 0.8826\n",
      "Epoch 315/600\n",
      "0s - loss: 0.0719 - acc: 0.9116 - val_loss: 0.0970 - val_acc: 0.8826\n",
      "Epoch 316/600\n",
      "0s - loss: 0.0718 - acc: 0.9101 - val_loss: 0.0974 - val_acc: 0.8826\n",
      "Epoch 317/600\n",
      "0s - loss: 0.0719 - acc: 0.9145 - val_loss: 0.0979 - val_acc: 0.8826\n",
      "Epoch 318/600\n",
      "0s - loss: 0.0722 - acc: 0.9130 - val_loss: 0.0978 - val_acc: 0.8826\n",
      "Epoch 319/600\n",
      "0s - loss: 0.0720 - acc: 0.9145 - val_loss: 0.0974 - val_acc: 0.8826\n",
      "Epoch 320/600\n",
      "0s - loss: 0.0719 - acc: 0.9116 - val_loss: 0.0971 - val_acc: 0.8826\n",
      "Epoch 321/600\n",
      "0s - loss: 0.0718 - acc: 0.9130 - val_loss: 0.0971 - val_acc: 0.8826\n",
      "Epoch 322/600\n",
      "0s - loss: 0.0719 - acc: 0.9130 - val_loss: 0.0972 - val_acc: 0.8826\n",
      "Epoch 323/600\n",
      "0s - loss: 0.0720 - acc: 0.9145 - val_loss: 0.0975 - val_acc: 0.8826\n",
      "Epoch 324/600\n",
      "0s - loss: 0.0717 - acc: 0.9130 - val_loss: 0.0974 - val_acc: 0.8826\n",
      "Epoch 325/600\n",
      "0s - loss: 0.0717 - acc: 0.9145 - val_loss: 0.0973 - val_acc: 0.8826\n",
      "Epoch 326/600\n",
      "0s - loss: 0.0718 - acc: 0.9145 - val_loss: 0.0974 - val_acc: 0.8826\n",
      "Epoch 327/600\n",
      "0s - loss: 0.0718 - acc: 0.9159 - val_loss: 0.0975 - val_acc: 0.8826\n",
      "Epoch 328/600\n",
      "0s - loss: 0.0718 - acc: 0.9159 - val_loss: 0.0976 - val_acc: 0.8826\n",
      "Epoch 329/600\n",
      "0s - loss: 0.0717 - acc: 0.9145 - val_loss: 0.0977 - val_acc: 0.8826\n",
      "Epoch 330/600\n",
      "0s - loss: 0.0717 - acc: 0.9145 - val_loss: 0.0977 - val_acc: 0.8826\n",
      "Epoch 331/600\n",
      "0s - loss: 0.0717 - acc: 0.9145 - val_loss: 0.0978 - val_acc: 0.8826\n",
      "Epoch 332/600\n",
      "0s - loss: 0.0717 - acc: 0.9159 - val_loss: 0.0979 - val_acc: 0.8826\n",
      "Epoch 333/600\n",
      "0s - loss: 0.0717 - acc: 0.9145 - val_loss: 0.0979 - val_acc: 0.8826\n",
      "Epoch 334/600\n",
      "0s - loss: 0.0716 - acc: 0.9145 - val_loss: 0.0977 - val_acc: 0.8826\n",
      "Epoch 335/600\n",
      "0s - loss: 0.0717 - acc: 0.9145 - val_loss: 0.0975 - val_acc: 0.8826\n",
      "Epoch 336/600\n",
      "0s - loss: 0.0717 - acc: 0.9145 - val_loss: 0.0975 - val_acc: 0.8826\n",
      "Epoch 337/600\n",
      "0s - loss: 0.0717 - acc: 0.9145 - val_loss: 0.0976 - val_acc: 0.8826\n",
      "Epoch 338/600\n",
      "0s - loss: 0.0717 - acc: 0.9130 - val_loss: 0.0977 - val_acc: 0.8826\n",
      "Epoch 339/600\n",
      "0s - loss: 0.0717 - acc: 0.9130 - val_loss: 0.0978 - val_acc: 0.8826\n",
      "Epoch 340/600\n",
      "0s - loss: 0.0717 - acc: 0.9130 - val_loss: 0.0981 - val_acc: 0.8783\n",
      "Epoch 341/600\n",
      "0s - loss: 0.0718 - acc: 0.9101 - val_loss: 0.0982 - val_acc: 0.8783\n",
      "Epoch 342/600\n",
      "0s - loss: 0.0720 - acc: 0.9159 - val_loss: 0.0982 - val_acc: 0.8783\n",
      "Epoch 343/600\n",
      "0s - loss: 0.0721 - acc: 0.9101 - val_loss: 0.0981 - val_acc: 0.8783\n",
      "Epoch 344/600\n",
      "0s - loss: 0.0717 - acc: 0.9116 - val_loss: 0.0981 - val_acc: 0.8826\n",
      "Epoch 345/600\n",
      "0s - loss: 0.0716 - acc: 0.9145 - val_loss: 0.0980 - val_acc: 0.8826\n",
      "Epoch 346/600\n",
      "0s - loss: 0.0717 - acc: 0.9116 - val_loss: 0.0979 - val_acc: 0.8826\n",
      "Epoch 347/600\n",
      "0s - loss: 0.0718 - acc: 0.9145 - val_loss: 0.0980 - val_acc: 0.8826\n",
      "Epoch 348/600\n",
      "0s - loss: 0.0718 - acc: 0.9130 - val_loss: 0.0982 - val_acc: 0.8826\n",
      "Epoch 349/600\n",
      "0s - loss: 0.0716 - acc: 0.9130 - val_loss: 0.0985 - val_acc: 0.8826\n",
      "Epoch 350/600\n",
      "0s - loss: 0.0715 - acc: 0.9159 - val_loss: 0.0991 - val_acc: 0.8739\n",
      "Epoch 351/600\n",
      "0s - loss: 0.0723 - acc: 0.9145 - val_loss: 0.0993 - val_acc: 0.8739\n",
      "Epoch 352/600\n",
      "0s - loss: 0.0722 - acc: 0.9130 - val_loss: 0.0989 - val_acc: 0.8826\n",
      "Epoch 353/600\n",
      "0s - loss: 0.0717 - acc: 0.9130 - val_loss: 0.0986 - val_acc: 0.8826\n",
      "Epoch 354/600\n",
      "0s - loss: 0.0716 - acc: 0.9130 - val_loss: 0.0986 - val_acc: 0.8826\n",
      "Epoch 355/600\n",
      "0s - loss: 0.0716 - acc: 0.9145 - val_loss: 0.0987 - val_acc: 0.8826\n",
      "Epoch 356/600\n",
      "0s - loss: 0.0715 - acc: 0.9145 - val_loss: 0.0987 - val_acc: 0.8826\n",
      "Epoch 357/600\n",
      "0s - loss: 0.0716 - acc: 0.9130 - val_loss: 0.0988 - val_acc: 0.8826\n",
      "Epoch 358/600\n",
      "0s - loss: 0.0717 - acc: 0.9130 - val_loss: 0.0990 - val_acc: 0.8826\n",
      "Epoch 359/600\n",
      "0s - loss: 0.0717 - acc: 0.9159 - val_loss: 0.0988 - val_acc: 0.8826\n",
      "Epoch 360/600\n",
      "0s - loss: 0.0716 - acc: 0.9145 - val_loss: 0.0986 - val_acc: 0.8826\n",
      "Epoch 361/600\n",
      "0s - loss: 0.0715 - acc: 0.9130 - val_loss: 0.0984 - val_acc: 0.8826\n",
      "Epoch 362/600\n",
      "0s - loss: 0.0716 - acc: 0.9159 - val_loss: 0.0983 - val_acc: 0.8826\n",
      "Epoch 363/600\n",
      "0s - loss: 0.0716 - acc: 0.9174 - val_loss: 0.0983 - val_acc: 0.8826\n",
      "Epoch 364/600\n",
      "0s - loss: 0.0716 - acc: 0.9159 - val_loss: 0.0985 - val_acc: 0.8826\n",
      "Epoch 365/600\n",
      "0s - loss: 0.0716 - acc: 0.9159 - val_loss: 0.0986 - val_acc: 0.8826\n",
      "Epoch 366/600\n",
      "0s - loss: 0.0716 - acc: 0.9130 - val_loss: 0.0990 - val_acc: 0.8826\n",
      "Epoch 367/600\n",
      "0s - loss: 0.0716 - acc: 0.9145 - val_loss: 0.0990 - val_acc: 0.8826\n",
      "Epoch 368/600\n",
      "0s - loss: 0.0716 - acc: 0.9145 - val_loss: 0.0991 - val_acc: 0.8826\n",
      "Epoch 369/600\n",
      "0s - loss: 0.0716 - acc: 0.9145 - val_loss: 0.0989 - val_acc: 0.8826\n",
      "Epoch 370/600\n",
      "0s - loss: 0.0715 - acc: 0.9145 - val_loss: 0.0985 - val_acc: 0.8826\n",
      "Epoch 371/600\n",
      "0s - loss: 0.0715 - acc: 0.9159 - val_loss: 0.0982 - val_acc: 0.8826\n",
      "Epoch 372/600\n",
      "0s - loss: 0.0718 - acc: 0.9159 - val_loss: 0.0980 - val_acc: 0.8826\n",
      "Epoch 373/600\n",
      "0s - loss: 0.0719 - acc: 0.9145 - val_loss: 0.0983 - val_acc: 0.8826\n",
      "Epoch 374/600\n",
      "0s - loss: 0.0718 - acc: 0.9145 - val_loss: 0.0986 - val_acc: 0.8826\n",
      "Epoch 375/600\n",
      "0s - loss: 0.0715 - acc: 0.9145 - val_loss: 0.0987 - val_acc: 0.8826\n",
      "Epoch 376/600\n",
      "0s - loss: 0.0715 - acc: 0.9159 - val_loss: 0.0989 - val_acc: 0.8826\n",
      "Epoch 377/600\n",
      "0s - loss: 0.0715 - acc: 0.9145 - val_loss: 0.0988 - val_acc: 0.8826\n",
      "Epoch 378/600\n",
      "0s - loss: 0.0715 - acc: 0.9159 - val_loss: 0.0987 - val_acc: 0.8826\n",
      "Epoch 379/600\n",
      "0s - loss: 0.0715 - acc: 0.9159 - val_loss: 0.0987 - val_acc: 0.8826\n",
      "Epoch 380/600\n",
      "0s - loss: 0.0715 - acc: 0.9159 - val_loss: 0.0989 - val_acc: 0.8826\n",
      "Epoch 381/600\n",
      "0s - loss: 0.0716 - acc: 0.9130 - val_loss: 0.0992 - val_acc: 0.8826\n",
      "Epoch 382/600\n",
      "0s - loss: 0.0714 - acc: 0.9159 - val_loss: 0.0991 - val_acc: 0.8826\n",
      "Epoch 383/600\n",
      "0s - loss: 0.0715 - acc: 0.9159 - val_loss: 0.0992 - val_acc: 0.8826\n",
      "Epoch 384/600\n",
      "0s - loss: 0.0715 - acc: 0.9159 - val_loss: 0.0994 - val_acc: 0.8826\n",
      "Epoch 385/600\n",
      "0s - loss: 0.0714 - acc: 0.9145 - val_loss: 0.0995 - val_acc: 0.8826\n",
      "Epoch 386/600\n",
      "0s - loss: 0.0714 - acc: 0.9145 - val_loss: 0.0998 - val_acc: 0.8826\n",
      "Epoch 387/600\n",
      "0s - loss: 0.0716 - acc: 0.9174 - val_loss: 0.0999 - val_acc: 0.8826\n",
      "Epoch 388/600\n",
      "0s - loss: 0.0715 - acc: 0.9145 - val_loss: 0.0996 - val_acc: 0.8826\n",
      "Epoch 389/600\n",
      "0s - loss: 0.0714 - acc: 0.9145 - val_loss: 0.0993 - val_acc: 0.8826\n",
      "Epoch 390/600\n",
      "0s - loss: 0.0715 - acc: 0.9174 - val_loss: 0.0990 - val_acc: 0.8826\n",
      "Epoch 391/600\n",
      "0s - loss: 0.0716 - acc: 0.9159 - val_loss: 0.0991 - val_acc: 0.8826\n",
      "Epoch 392/600\n",
      "0s - loss: 0.0715 - acc: 0.9159 - val_loss: 0.0993 - val_acc: 0.8826\n",
      "Epoch 393/600\n",
      "0s - loss: 0.0714 - acc: 0.9174 - val_loss: 0.0997 - val_acc: 0.8826\n",
      "Epoch 394/600\n",
      "0s - loss: 0.0715 - acc: 0.9174 - val_loss: 0.0999 - val_acc: 0.8783\n",
      "Epoch 395/600\n",
      "0s - loss: 0.0716 - acc: 0.9145 - val_loss: 0.0999 - val_acc: 0.8783\n",
      "Epoch 396/600\n",
      "0s - loss: 0.0716 - acc: 0.9145 - val_loss: 0.0996 - val_acc: 0.8826\n",
      "Epoch 397/600\n",
      "0s - loss: 0.0713 - acc: 0.9174 - val_loss: 0.0991 - val_acc: 0.8826\n",
      "Epoch 398/600\n",
      "0s - loss: 0.0714 - acc: 0.9159 - val_loss: 0.0986 - val_acc: 0.8826\n",
      "Epoch 399/600\n",
      "0s - loss: 0.0718 - acc: 0.9145 - val_loss: 0.0984 - val_acc: 0.8826\n",
      "Epoch 400/600\n",
      "0s - loss: 0.0722 - acc: 0.9130 - val_loss: 0.0984 - val_acc: 0.8826\n",
      "Epoch 401/600\n",
      "0s - loss: 0.0720 - acc: 0.9145 - val_loss: 0.0985 - val_acc: 0.8826\n",
      "Epoch 402/600\n",
      "0s - loss: 0.0717 - acc: 0.9145 - val_loss: 0.0990 - val_acc: 0.8826\n",
      "Epoch 403/600\n",
      "0s - loss: 0.0715 - acc: 0.9174 - val_loss: 0.0994 - val_acc: 0.8783\n",
      "Epoch 404/600\n",
      "0s - loss: 0.0715 - acc: 0.9174 - val_loss: 0.0994 - val_acc: 0.8783\n",
      "Epoch 405/600\n",
      "0s - loss: 0.0714 - acc: 0.9174 - val_loss: 0.0991 - val_acc: 0.8826\n",
      "Epoch 406/600\n",
      "0s - loss: 0.0714 - acc: 0.9145 - val_loss: 0.0988 - val_acc: 0.8826\n",
      "Epoch 407/600\n",
      "0s - loss: 0.0715 - acc: 0.9130 - val_loss: 0.0987 - val_acc: 0.8826\n",
      "Epoch 408/600\n",
      "0s - loss: 0.0714 - acc: 0.9130 - val_loss: 0.0990 - val_acc: 0.8826\n",
      "Epoch 409/600\n",
      "0s - loss: 0.0714 - acc: 0.9130 - val_loss: 0.0993 - val_acc: 0.8826\n",
      "Epoch 410/600\n",
      "0s - loss: 0.0715 - acc: 0.9145 - val_loss: 0.0994 - val_acc: 0.8826\n",
      "Epoch 411/600\n",
      "0s - loss: 0.0715 - acc: 0.9159 - val_loss: 0.0995 - val_acc: 0.8826\n",
      "Epoch 412/600\n",
      "0s - loss: 0.0717 - acc: 0.9188 - val_loss: 0.0996 - val_acc: 0.8826\n",
      "Epoch 413/600\n",
      "0s - loss: 0.0716 - acc: 0.9188 - val_loss: 0.0997 - val_acc: 0.8826\n",
      "Epoch 414/600\n",
      "0s - loss: 0.0719 - acc: 0.9188 - val_loss: 0.0996 - val_acc: 0.8826\n",
      "Epoch 415/600\n",
      "0s - loss: 0.0714 - acc: 0.9174 - val_loss: 0.0996 - val_acc: 0.8826\n",
      "Epoch 416/600\n",
      "0s - loss: 0.0715 - acc: 0.9174 - val_loss: 0.0994 - val_acc: 0.8826\n",
      "Epoch 417/600\n",
      "0s - loss: 0.0714 - acc: 0.9174 - val_loss: 0.0992 - val_acc: 0.8826\n",
      "Epoch 418/600\n",
      "0s - loss: 0.0713 - acc: 0.9145 - val_loss: 0.0991 - val_acc: 0.8826\n",
      "Epoch 419/600\n",
      "0s - loss: 0.0715 - acc: 0.9188 - val_loss: 0.0989 - val_acc: 0.8826\n",
      "Epoch 420/600\n",
      "0s - loss: 0.0714 - acc: 0.9159 - val_loss: 0.0986 - val_acc: 0.8826\n",
      "Epoch 421/600\n",
      "0s - loss: 0.0718 - acc: 0.9145 - val_loss: 0.0985 - val_acc: 0.8826\n",
      "Epoch 422/600\n",
      "0s - loss: 0.0720 - acc: 0.9159 - val_loss: 0.0987 - val_acc: 0.8826\n",
      "Epoch 423/600\n",
      "0s - loss: 0.0717 - acc: 0.9159 - val_loss: 0.0990 - val_acc: 0.8826\n",
      "Epoch 424/600\n",
      "0s - loss: 0.0714 - acc: 0.9188 - val_loss: 0.0992 - val_acc: 0.8826\n",
      "Epoch 425/600\n",
      "0s - loss: 0.0714 - acc: 0.9174 - val_loss: 0.0993 - val_acc: 0.8826\n",
      "Epoch 426/600\n",
      "0s - loss: 0.0714 - acc: 0.9174 - val_loss: 0.0991 - val_acc: 0.8826\n",
      "Epoch 427/600\n",
      "0s - loss: 0.0714 - acc: 0.9159 - val_loss: 0.0991 - val_acc: 0.8826\n",
      "Epoch 428/600\n",
      "0s - loss: 0.0714 - acc: 0.9159 - val_loss: 0.0993 - val_acc: 0.8826\n",
      "Epoch 429/600\n",
      "0s - loss: 0.0714 - acc: 0.9174 - val_loss: 0.0994 - val_acc: 0.8826\n",
      "Epoch 430/600\n",
      "0s - loss: 0.0714 - acc: 0.9174 - val_loss: 0.0997 - val_acc: 0.8826\n",
      "Epoch 431/600\n",
      "0s - loss: 0.0714 - acc: 0.9174 - val_loss: 0.0997 - val_acc: 0.8826\n",
      "Epoch 432/600\n",
      "0s - loss: 0.0714 - acc: 0.9174 - val_loss: 0.0997 - val_acc: 0.8826\n",
      "Epoch 433/600\n",
      "0s - loss: 0.0713 - acc: 0.9174 - val_loss: 0.0996 - val_acc: 0.8826\n",
      "Epoch 434/600\n",
      "0s - loss: 0.0713 - acc: 0.9174 - val_loss: 0.0996 - val_acc: 0.8826\n",
      "Epoch 435/600\n",
      "0s - loss: 0.0713 - acc: 0.9188 - val_loss: 0.0996 - val_acc: 0.8826\n",
      "Epoch 436/600\n",
      "0s - loss: 0.0714 - acc: 0.9188 - val_loss: 0.0998 - val_acc: 0.8826\n",
      "Epoch 437/600\n",
      "0s - loss: 0.0714 - acc: 0.9188 - val_loss: 0.0997 - val_acc: 0.8826\n",
      "Epoch 438/600\n",
      "0s - loss: 0.0713 - acc: 0.9203 - val_loss: 0.1000 - val_acc: 0.8826\n",
      "Epoch 439/600\n",
      "0s - loss: 0.0712 - acc: 0.9188 - val_loss: 0.1005 - val_acc: 0.8783\n",
      "Epoch 440/600\n",
      "0s - loss: 0.0713 - acc: 0.9174 - val_loss: 0.1009 - val_acc: 0.8783\n",
      "Epoch 441/600\n",
      "0s - loss: 0.0716 - acc: 0.9159 - val_loss: 0.1011 - val_acc: 0.8739\n",
      "Epoch 442/600\n",
      "0s - loss: 0.0718 - acc: 0.9145 - val_loss: 0.1009 - val_acc: 0.8783\n",
      "Epoch 443/600\n",
      "0s - loss: 0.0716 - acc: 0.9174 - val_loss: 0.1004 - val_acc: 0.8783\n",
      "Epoch 444/600\n",
      "0s - loss: 0.0713 - acc: 0.9188 - val_loss: 0.0997 - val_acc: 0.8826\n",
      "Epoch 445/600\n",
      "0s - loss: 0.0716 - acc: 0.9145 - val_loss: 0.0993 - val_acc: 0.8826\n",
      "Epoch 446/600\n",
      "0s - loss: 0.0722 - acc: 0.9101 - val_loss: 0.0993 - val_acc: 0.8826\n",
      "Epoch 447/600\n",
      "0s - loss: 0.0720 - acc: 0.9116 - val_loss: 0.0997 - val_acc: 0.8826\n",
      "Epoch 448/600\n",
      "0s - loss: 0.0713 - acc: 0.9174 - val_loss: 0.1004 - val_acc: 0.8783\n",
      "Epoch 449/600\n",
      "0s - loss: 0.0715 - acc: 0.9159 - val_loss: 0.1011 - val_acc: 0.8739\n",
      "Epoch 450/600\n",
      "0s - loss: 0.0719 - acc: 0.9130 - val_loss: 0.1011 - val_acc: 0.8739\n",
      "Epoch 451/600\n",
      "0s - loss: 0.0718 - acc: 0.9130 - val_loss: 0.1006 - val_acc: 0.8783\n",
      "Epoch 452/600\n",
      "0s - loss: 0.0714 - acc: 0.9174 - val_loss: 0.1000 - val_acc: 0.8826\n",
      "Epoch 453/600\n",
      "0s - loss: 0.0712 - acc: 0.9217 - val_loss: 0.0995 - val_acc: 0.8826\n",
      "Epoch 454/600\n",
      "0s - loss: 0.0716 - acc: 0.9159 - val_loss: 0.0994 - val_acc: 0.8826\n",
      "Epoch 455/600\n",
      "0s - loss: 0.0716 - acc: 0.9174 - val_loss: 0.0997 - val_acc: 0.8826\n",
      "Epoch 456/600\n",
      "0s - loss: 0.0713 - acc: 0.9174 - val_loss: 0.1001 - val_acc: 0.8826\n",
      "Epoch 457/600\n",
      "0s - loss: 0.0714 - acc: 0.9159 - val_loss: 0.1004 - val_acc: 0.8826\n",
      "Epoch 458/600\n",
      "0s - loss: 0.0713 - acc: 0.9174 - val_loss: 0.1004 - val_acc: 0.8826\n",
      "Epoch 459/600\n",
      "0s - loss: 0.0713 - acc: 0.9159 - val_loss: 0.1003 - val_acc: 0.8826\n",
      "Epoch 460/600\n",
      "0s - loss: 0.0712 - acc: 0.9203 - val_loss: 0.1001 - val_acc: 0.8826\n",
      "Epoch 461/600\n",
      "0s - loss: 0.0712 - acc: 0.9188 - val_loss: 0.0999 - val_acc: 0.8826\n",
      "Epoch 462/600\n",
      "0s - loss: 0.0713 - acc: 0.9174 - val_loss: 0.0999 - val_acc: 0.8826\n",
      "Epoch 463/600\n",
      "0s - loss: 0.0713 - acc: 0.9174 - val_loss: 0.1002 - val_acc: 0.8826\n",
      "Epoch 464/600\n",
      "0s - loss: 0.0712 - acc: 0.9188 - val_loss: 0.1005 - val_acc: 0.8826\n",
      "Epoch 465/600\n",
      "0s - loss: 0.0712 - acc: 0.9145 - val_loss: 0.1006 - val_acc: 0.8826\n",
      "Epoch 466/600\n",
      "0s - loss: 0.0714 - acc: 0.9159 - val_loss: 0.1006 - val_acc: 0.8826\n",
      "Epoch 467/600\n",
      "0s - loss: 0.0714 - acc: 0.9188 - val_loss: 0.1004 - val_acc: 0.8826\n",
      "Epoch 468/600\n",
      "0s - loss: 0.0712 - acc: 0.9188 - val_loss: 0.1004 - val_acc: 0.8826\n",
      "Epoch 469/600\n",
      "0s - loss: 0.0713 - acc: 0.9174 - val_loss: 0.1004 - val_acc: 0.8826\n",
      "Epoch 470/600\n",
      "0s - loss: 0.0712 - acc: 0.9188 - val_loss: 0.1007 - val_acc: 0.8783\n",
      "Epoch 471/600\n",
      "0s - loss: 0.0713 - acc: 0.9159 - val_loss: 0.1006 - val_acc: 0.8783\n",
      "Epoch 472/600\n",
      "0s - loss: 0.0713 - acc: 0.9188 - val_loss: 0.1003 - val_acc: 0.8783\n",
      "Epoch 473/600\n",
      "0s - loss: 0.0712 - acc: 0.9188 - val_loss: 0.1002 - val_acc: 0.8783\n",
      "Epoch 474/600\n",
      "0s - loss: 0.0712 - acc: 0.9203 - val_loss: 0.1001 - val_acc: 0.8783\n",
      "Epoch 475/600\n",
      "0s - loss: 0.0712 - acc: 0.9203 - val_loss: 0.1002 - val_acc: 0.8783\n",
      "Epoch 476/600\n",
      "0s - loss: 0.0712 - acc: 0.9188 - val_loss: 0.1004 - val_acc: 0.8783\n",
      "Epoch 477/600\n",
      "0s - loss: 0.0712 - acc: 0.9174 - val_loss: 0.1007 - val_acc: 0.8783\n",
      "Epoch 478/600\n",
      "0s - loss: 0.0712 - acc: 0.9174 - val_loss: 0.1006 - val_acc: 0.8783\n",
      "Epoch 479/600\n",
      "0s - loss: 0.0712 - acc: 0.9174 - val_loss: 0.1004 - val_acc: 0.8783\n",
      "Epoch 480/600\n",
      "0s - loss: 0.0712 - acc: 0.9217 - val_loss: 0.1003 - val_acc: 0.8783\n",
      "Epoch 481/600\n",
      "0s - loss: 0.0712 - acc: 0.9217 - val_loss: 0.1005 - val_acc: 0.8783\n",
      "Epoch 482/600\n",
      "0s - loss: 0.0711 - acc: 0.9217 - val_loss: 0.1005 - val_acc: 0.8783\n",
      "Epoch 483/600\n",
      "0s - loss: 0.0712 - acc: 0.9203 - val_loss: 0.1006 - val_acc: 0.8783\n",
      "Epoch 484/600\n",
      "0s - loss: 0.0711 - acc: 0.9217 - val_loss: 0.1009 - val_acc: 0.8783\n",
      "Epoch 485/600\n",
      "0s - loss: 0.0711 - acc: 0.9217 - val_loss: 0.1011 - val_acc: 0.8783\n",
      "Epoch 486/600\n",
      "0s - loss: 0.0712 - acc: 0.9232 - val_loss: 0.1010 - val_acc: 0.8783\n",
      "Epoch 487/600\n",
      "0s - loss: 0.0710 - acc: 0.9188 - val_loss: 0.1005 - val_acc: 0.8826\n",
      "Epoch 488/600\n",
      "0s - loss: 0.0712 - acc: 0.9217 - val_loss: 0.1001 - val_acc: 0.8826\n",
      "Epoch 489/600\n",
      "0s - loss: 0.0719 - acc: 0.9159 - val_loss: 0.1000 - val_acc: 0.8826\n",
      "Epoch 490/600\n",
      "0s - loss: 0.0720 - acc: 0.9174 - val_loss: 0.1005 - val_acc: 0.8826\n",
      "Epoch 491/600\n",
      "0s - loss: 0.0714 - acc: 0.9203 - val_loss: 0.1009 - val_acc: 0.8826\n",
      "Epoch 492/600\n",
      "0s - loss: 0.0710 - acc: 0.9203 - val_loss: 0.1013 - val_acc: 0.8826\n",
      "Epoch 493/600\n",
      "0s - loss: 0.0713 - acc: 0.9203 - val_loss: 0.1017 - val_acc: 0.8739\n",
      "Epoch 494/600\n",
      "0s - loss: 0.0714 - acc: 0.9188 - val_loss: 0.1013 - val_acc: 0.8826\n",
      "Epoch 495/600\n",
      "0s - loss: 0.0711 - acc: 0.9203 - val_loss: 0.1007 - val_acc: 0.8826\n",
      "Epoch 496/600\n",
      "0s - loss: 0.0712 - acc: 0.9217 - val_loss: 0.1003 - val_acc: 0.8826\n",
      "Epoch 497/600\n",
      "0s - loss: 0.0715 - acc: 0.9174 - val_loss: 0.1003 - val_acc: 0.8826\n",
      "Epoch 498/600\n",
      "0s - loss: 0.0715 - acc: 0.9174 - val_loss: 0.1004 - val_acc: 0.8826\n",
      "Epoch 499/600\n",
      "0s - loss: 0.0714 - acc: 0.9174 - val_loss: 0.1008 - val_acc: 0.8826\n",
      "Epoch 500/600\n",
      "0s - loss: 0.0711 - acc: 0.9188 - val_loss: 0.1013 - val_acc: 0.8826\n",
      "Epoch 501/600\n",
      "0s - loss: 0.0711 - acc: 0.9203 - val_loss: 0.1019 - val_acc: 0.8696\n",
      "Epoch 502/600\n",
      "0s - loss: 0.0714 - acc: 0.9174 - val_loss: 0.1019 - val_acc: 0.8696\n",
      "Epoch 503/600\n",
      "0s - loss: 0.0714 - acc: 0.9188 - val_loss: 0.1015 - val_acc: 0.8826\n",
      "Epoch 504/600\n",
      "0s - loss: 0.0711 - acc: 0.9217 - val_loss: 0.1011 - val_acc: 0.8826\n",
      "Epoch 505/600\n",
      "0s - loss: 0.0713 - acc: 0.9203 - val_loss: 0.1007 - val_acc: 0.8826\n",
      "Epoch 506/600\n",
      "0s - loss: 0.0714 - acc: 0.9188 - val_loss: 0.1009 - val_acc: 0.8826\n",
      "Epoch 507/600\n",
      "0s - loss: 0.0713 - acc: 0.9203 - val_loss: 0.1014 - val_acc: 0.8826\n",
      "Epoch 508/600\n",
      "0s - loss: 0.0711 - acc: 0.9188 - val_loss: 0.1018 - val_acc: 0.8783\n",
      "Epoch 509/600\n",
      "0s - loss: 0.0711 - acc: 0.9203 - val_loss: 0.1021 - val_acc: 0.8783\n",
      "Epoch 510/600\n",
      "0s - loss: 0.0712 - acc: 0.9203 - val_loss: 0.1023 - val_acc: 0.8739\n",
      "Epoch 511/600\n",
      "0s - loss: 0.0713 - acc: 0.9203 - val_loss: 0.1021 - val_acc: 0.8783\n",
      "Epoch 512/600\n",
      "0s - loss: 0.0712 - acc: 0.9203 - val_loss: 0.1019 - val_acc: 0.8783\n",
      "Epoch 513/600\n",
      "0s - loss: 0.0711 - acc: 0.9217 - val_loss: 0.1016 - val_acc: 0.8783\n",
      "Epoch 514/600\n",
      "0s - loss: 0.0711 - acc: 0.9174 - val_loss: 0.1014 - val_acc: 0.8783\n",
      "Epoch 515/600\n",
      "0s - loss: 0.0711 - acc: 0.9174 - val_loss: 0.1014 - val_acc: 0.8783\n",
      "Epoch 516/600\n",
      "0s - loss: 0.0711 - acc: 0.9188 - val_loss: 0.1015 - val_acc: 0.8783\n",
      "Epoch 517/600\n",
      "0s - loss: 0.0710 - acc: 0.9203 - val_loss: 0.1016 - val_acc: 0.8783\n",
      "Epoch 518/600\n",
      "0s - loss: 0.0711 - acc: 0.9232 - val_loss: 0.1015 - val_acc: 0.8783\n",
      "Epoch 519/600\n",
      "0s - loss: 0.0711 - acc: 0.9217 - val_loss: 0.1014 - val_acc: 0.8783\n",
      "Epoch 520/600\n",
      "0s - loss: 0.0710 - acc: 0.9232 - val_loss: 0.1015 - val_acc: 0.8783\n",
      "Epoch 521/600\n",
      "0s - loss: 0.0711 - acc: 0.9217 - val_loss: 0.1016 - val_acc: 0.8783\n",
      "Epoch 522/600\n",
      "0s - loss: 0.0712 - acc: 0.9174 - val_loss: 0.1013 - val_acc: 0.8783\n",
      "Epoch 523/600\n",
      "0s - loss: 0.0710 - acc: 0.9232 - val_loss: 0.1007 - val_acc: 0.8826\n",
      "Epoch 524/600\n",
      "0s - loss: 0.0710 - acc: 0.9174 - val_loss: 0.1001 - val_acc: 0.8826\n",
      "Epoch 525/600\n",
      "0s - loss: 0.0718 - acc: 0.9159 - val_loss: 0.0999 - val_acc: 0.8826\n",
      "Epoch 526/600\n",
      "0s - loss: 0.0719 - acc: 0.9174 - val_loss: 0.1004 - val_acc: 0.8826\n",
      "Epoch 527/600\n",
      "0s - loss: 0.0713 - acc: 0.9203 - val_loss: 0.1013 - val_acc: 0.8783\n",
      "Epoch 528/600\n",
      "0s - loss: 0.0713 - acc: 0.9203 - val_loss: 0.1018 - val_acc: 0.8739\n",
      "Epoch 529/600\n",
      "0s - loss: 0.0714 - acc: 0.9188 - val_loss: 0.1017 - val_acc: 0.8739\n",
      "Epoch 530/600\n",
      "0s - loss: 0.0713 - acc: 0.9203 - val_loss: 0.1016 - val_acc: 0.8783\n",
      "Epoch 531/600\n",
      "0s - loss: 0.0711 - acc: 0.9217 - val_loss: 0.1016 - val_acc: 0.8783\n",
      "Epoch 532/600\n",
      "0s - loss: 0.0711 - acc: 0.9232 - val_loss: 0.1015 - val_acc: 0.8826\n",
      "Epoch 533/600\n",
      "0s - loss: 0.0710 - acc: 0.9203 - val_loss: 0.1012 - val_acc: 0.8826\n",
      "Epoch 534/600\n",
      "0s - loss: 0.0711 - acc: 0.9174 - val_loss: 0.1010 - val_acc: 0.8826\n",
      "Epoch 535/600\n",
      "0s - loss: 0.0712 - acc: 0.9159 - val_loss: 0.1010 - val_acc: 0.8826\n",
      "Epoch 536/600\n",
      "0s - loss: 0.0712 - acc: 0.9174 - val_loss: 0.1010 - val_acc: 0.8826\n",
      "Epoch 537/600\n",
      "0s - loss: 0.0712 - acc: 0.9188 - val_loss: 0.1012 - val_acc: 0.8826\n",
      "Epoch 538/600\n",
      "0s - loss: 0.0711 - acc: 0.9174 - val_loss: 0.1014 - val_acc: 0.8826\n",
      "Epoch 539/600\n",
      "0s - loss: 0.0710 - acc: 0.9174 - val_loss: 0.1014 - val_acc: 0.8826\n",
      "Epoch 540/600\n",
      "0s - loss: 0.0710 - acc: 0.9188 - val_loss: 0.1014 - val_acc: 0.8826\n",
      "Epoch 541/600\n",
      "0s - loss: 0.0710 - acc: 0.9188 - val_loss: 0.1016 - val_acc: 0.8783\n",
      "Epoch 542/600\n",
      "0s - loss: 0.0711 - acc: 0.9217 - val_loss: 0.1017 - val_acc: 0.8783\n",
      "Epoch 543/600\n",
      "0s - loss: 0.0710 - acc: 0.9203 - val_loss: 0.1014 - val_acc: 0.8826\n",
      "Epoch 544/600\n",
      "0s - loss: 0.0710 - acc: 0.9203 - val_loss: 0.1013 - val_acc: 0.8826\n",
      "Epoch 545/600\n",
      "0s - loss: 0.0710 - acc: 0.9188 - val_loss: 0.1012 - val_acc: 0.8826\n",
      "Epoch 546/600\n",
      "0s - loss: 0.0711 - acc: 0.9188 - val_loss: 0.1010 - val_acc: 0.8826\n",
      "Epoch 547/600\n",
      "0s - loss: 0.0713 - acc: 0.9174 - val_loss: 0.1009 - val_acc: 0.8826\n",
      "Epoch 548/600\n",
      "0s - loss: 0.0712 - acc: 0.9174 - val_loss: 0.1013 - val_acc: 0.8826\n",
      "Epoch 549/600\n",
      "0s - loss: 0.0710 - acc: 0.9203 - val_loss: 0.1018 - val_acc: 0.8826\n",
      "Epoch 550/600\n",
      "0s - loss: 0.0711 - acc: 0.9217 - val_loss: 0.1020 - val_acc: 0.8739\n",
      "Epoch 551/600\n",
      "0s - loss: 0.0712 - acc: 0.9203 - val_loss: 0.1018 - val_acc: 0.8783\n",
      "Epoch 552/600\n",
      "0s - loss: 0.0710 - acc: 0.9188 - val_loss: 0.1015 - val_acc: 0.8826\n",
      "Epoch 553/600\n",
      "0s - loss: 0.0709 - acc: 0.9188 - val_loss: 0.1012 - val_acc: 0.8826\n",
      "Epoch 554/600\n",
      "0s - loss: 0.0711 - acc: 0.9203 - val_loss: 0.1011 - val_acc: 0.8826\n",
      "Epoch 555/600\n",
      "0s - loss: 0.0711 - acc: 0.9174 - val_loss: 0.1013 - val_acc: 0.8826\n",
      "Epoch 556/600\n",
      "0s - loss: 0.0710 - acc: 0.9203 - val_loss: 0.1014 - val_acc: 0.8826\n",
      "Epoch 557/600\n",
      "0s - loss: 0.0710 - acc: 0.9203 - val_loss: 0.1015 - val_acc: 0.8783\n",
      "Epoch 558/600\n",
      "0s - loss: 0.0709 - acc: 0.9203 - val_loss: 0.1017 - val_acc: 0.8783\n",
      "Epoch 559/600\n",
      "0s - loss: 0.0710 - acc: 0.9188 - val_loss: 0.1018 - val_acc: 0.8783\n",
      "Epoch 560/600\n",
      "0s - loss: 0.0710 - acc: 0.9203 - val_loss: 0.1017 - val_acc: 0.8783\n",
      "Epoch 561/600\n",
      "0s - loss: 0.0709 - acc: 0.9188 - val_loss: 0.1015 - val_acc: 0.8826\n",
      "Epoch 562/600\n",
      "0s - loss: 0.0709 - acc: 0.9203 - val_loss: 0.1015 - val_acc: 0.8826\n",
      "Epoch 563/600\n",
      "0s - loss: 0.0710 - acc: 0.9203 - val_loss: 0.1016 - val_acc: 0.8826\n",
      "Epoch 564/600\n",
      "0s - loss: 0.0709 - acc: 0.9188 - val_loss: 0.1014 - val_acc: 0.8826\n",
      "Epoch 565/600\n",
      "0s - loss: 0.0711 - acc: 0.9174 - val_loss: 0.1013 - val_acc: 0.8826\n",
      "Epoch 566/600\n",
      "0s - loss: 0.0711 - acc: 0.9174 - val_loss: 0.1018 - val_acc: 0.8826\n",
      "Epoch 567/600\n",
      "0s - loss: 0.0709 - acc: 0.9217 - val_loss: 0.1026 - val_acc: 0.8739\n",
      "Epoch 568/600\n",
      "0s - loss: 0.0712 - acc: 0.9188 - val_loss: 0.1032 - val_acc: 0.8696\n",
      "Epoch 569/600\n",
      "0s - loss: 0.0716 - acc: 0.9203 - val_loss: 0.1031 - val_acc: 0.8696\n",
      "Epoch 570/600\n",
      "0s - loss: 0.0713 - acc: 0.9188 - val_loss: 0.1023 - val_acc: 0.8783\n",
      "Epoch 571/600\n",
      "0s - loss: 0.0711 - acc: 0.9203 - val_loss: 0.1016 - val_acc: 0.8826\n",
      "Epoch 572/600\n",
      "0s - loss: 0.0711 - acc: 0.9159 - val_loss: 0.1012 - val_acc: 0.8826\n",
      "Epoch 573/600\n",
      "0s - loss: 0.0716 - acc: 0.9174 - val_loss: 0.1012 - val_acc: 0.8826\n",
      "Epoch 574/600\n",
      "0s - loss: 0.0713 - acc: 0.9188 - val_loss: 0.1019 - val_acc: 0.8783\n",
      "Epoch 575/600\n",
      "0s - loss: 0.0711 - acc: 0.9203 - val_loss: 0.1028 - val_acc: 0.8739\n",
      "Epoch 576/600\n",
      "0s - loss: 0.0714 - acc: 0.9188 - val_loss: 0.1030 - val_acc: 0.8696\n",
      "Epoch 577/600\n",
      "0s - loss: 0.0714 - acc: 0.9188 - val_loss: 0.1025 - val_acc: 0.8739\n",
      "Epoch 578/600\n",
      "0s - loss: 0.0710 - acc: 0.9188 - val_loss: 0.1019 - val_acc: 0.8783\n",
      "Epoch 579/600\n",
      "0s - loss: 0.0709 - acc: 0.9217 - val_loss: 0.1014 - val_acc: 0.8826\n",
      "Epoch 580/600\n",
      "0s - loss: 0.0711 - acc: 0.9203 - val_loss: 0.1011 - val_acc: 0.8826\n",
      "Epoch 581/600\n",
      "0s - loss: 0.0711 - acc: 0.9174 - val_loss: 0.1014 - val_acc: 0.8826\n",
      "Epoch 582/600\n",
      "0s - loss: 0.0709 - acc: 0.9203 - val_loss: 0.1020 - val_acc: 0.8783\n",
      "Epoch 583/600\n",
      "0s - loss: 0.0711 - acc: 0.9203 - val_loss: 0.1023 - val_acc: 0.8739\n",
      "Epoch 584/600\n",
      "0s - loss: 0.0713 - acc: 0.9203 - val_loss: 0.1021 - val_acc: 0.8783\n",
      "Epoch 585/600\n",
      "0s - loss: 0.0711 - acc: 0.9188 - val_loss: 0.1019 - val_acc: 0.8783\n",
      "Epoch 586/600\n",
      "0s - loss: 0.0709 - acc: 0.9203 - val_loss: 0.1014 - val_acc: 0.8826\n",
      "Epoch 587/600\n",
      "0s - loss: 0.0709 - acc: 0.9203 - val_loss: 0.1011 - val_acc: 0.8826\n",
      "Epoch 588/600\n",
      "0s - loss: 0.0711 - acc: 0.9188 - val_loss: 0.1010 - val_acc: 0.8826\n",
      "Epoch 589/600\n",
      "0s - loss: 0.0711 - acc: 0.9188 - val_loss: 0.1014 - val_acc: 0.8826\n",
      "Epoch 590/600\n",
      "0s - loss: 0.0709 - acc: 0.9174 - val_loss: 0.1016 - val_acc: 0.8783\n",
      "Epoch 591/600\n",
      "0s - loss: 0.0709 - acc: 0.9203 - val_loss: 0.1017 - val_acc: 0.8783\n",
      "Epoch 592/600\n",
      "0s - loss: 0.0709 - acc: 0.9188 - val_loss: 0.1015 - val_acc: 0.8826\n",
      "Epoch 593/600\n",
      "0s - loss: 0.0709 - acc: 0.9203 - val_loss: 0.1013 - val_acc: 0.8826\n",
      "Epoch 594/600\n",
      "0s - loss: 0.0709 - acc: 0.9232 - val_loss: 0.1014 - val_acc: 0.8826\n",
      "Epoch 595/600\n",
      "0s - loss: 0.0709 - acc: 0.9217 - val_loss: 0.1015 - val_acc: 0.8783\n",
      "Epoch 596/600\n",
      "0s - loss: 0.0708 - acc: 0.9203 - val_loss: 0.1016 - val_acc: 0.8783\n",
      "Epoch 597/600\n",
      "0s - loss: 0.0708 - acc: 0.9203 - val_loss: 0.1017 - val_acc: 0.8783\n",
      "Epoch 598/600\n",
      "0s - loss: 0.0709 - acc: 0.9188 - val_loss: 0.1019 - val_acc: 0.8783\n",
      "Epoch 599/600\n",
      "0s - loss: 0.0708 - acc: 0.9188 - val_loss: 0.1019 - val_acc: 0.8783\n",
      "Epoch 600/600\n",
      "0s - loss: 0.0708 - acc: 0.9188 - val_loss: 0.1017 - val_acc: 0.8826\n"
     ]
    },
    {
     "data": {
      "text/plain": [
       "<keras.callbacks.History at 0x7f51cafe6950>"
      ]
     },
     "execution_count": 47,
     "metadata": {},
     "output_type": "execute_result"
    }
   ],
   "source": [
    "model.fit(x_train, y_train, epochs=600, batch_size=512,  verbose=2 ,validation_data=(x_test, y_test))"
   ]
  },
  {
   "cell_type": "code",
   "execution_count": 48,
   "metadata": {
    "collapsed": false
   },
   "outputs": [
    {
     "name": "stdout",
     "output_type": "stream",
     "text": [
      "Train Score: 0.07 MSE (0.27 RMSE)\n",
      "Test Score: 0.10 MSE (0.32 RMSE)\n"
     ]
    }
   ],
   "source": [
    "import math\n",
    "\n",
    "trainScore = model.evaluate(x_train, y_train, verbose=0)\n",
    "print('Train Score: %.2f MSE (%.2f RMSE)' % (trainScore[0], math.sqrt(trainScore[0])))\n",
    "testScore = model.evaluate(x_test, y_test, verbose=0)\n",
    "print('Test Score: %.2f MSE (%.2f RMSE)' % (testScore[0], math.sqrt(testScore[0])))"
   ]
  },
  {
   "cell_type": "markdown",
   "metadata": {},
   "source": [
    "## As of now Neural networks are performing the best\n",
    "1. svm:89.56%\n",
    "2. logistic regression:88.69%\n",
    "3. neural networks:91.88%"
   ]
  },
  {
   "cell_type": "markdown",
   "metadata": {},
   "source": [
    "## TO DO:\n",
    "### 1. PCA\n",
    "### 2. Remove outliers< neural networks can perform better>"
   ]
  }
 ],
 "metadata": {
  "kernelspec": {
   "display_name": "Python 2",
   "language": "python",
   "name": "python2"
  },
  "language_info": {
   "codemirror_mode": {
    "name": "ipython",
    "version": 2
   },
   "file_extension": ".py",
   "mimetype": "text/x-python",
   "name": "python",
   "nbconvert_exporter": "python",
   "pygments_lexer": "ipython2",
   "version": "2.7.13"
  }
 },
 "nbformat": 4,
 "nbformat_minor": 2
}
