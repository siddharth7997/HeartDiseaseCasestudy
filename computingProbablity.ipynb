{
 "cells": [
  {
   "cell_type": "markdown",
   "metadata": {},
   "source": [
    "# Heart Disease Risk Predictions"
   ]
  },
  {
   "cell_type": "markdown",
   "metadata": {},
   "source": [
    "## Data Used: UCI Heart Disease Dataset\n",
    "This directory contains 4 databases concerning heart disease diagnosis.\n",
    "   All attributes are numeric-valued.  The data was collected from the\n",
    "   four following locations:\n",
    "\n",
    "     1. Cleveland Clinic Foundation\n",
    "     2. Hungarian Institute of Cardiology, Budapest\n",
    "     3. V.A. Medical Center, Long Beach, CA\n",
    "     4. University Hospital, Zurich, Switzerland"
   ]
  },
  {
   "cell_type": "markdown",
   "metadata": {},
   "source": [
    "## Number of Instances: \n",
    "####        Database:    # of instances:\n",
    "          1. Cleveland: 303\n",
    "          2. Hungarian: 294\n",
    "          3. Switzerland: 123\n",
    "          4. Long Beach VA: 200\n",
    "      \n",
    "      "
   ]
  },
  {
   "cell_type": "markdown",
   "metadata": {},
   "source": [
    "# Attribute Information:\n",
    "      1. age:age in years       \n",
    "      2. sex:(1 = male; 0 = female)       \n",
    "      3. cp:chest pain type\n",
    "          -- Value 1: typical angina\n",
    "          -- Value 2: atypical angina\n",
    "          -- Value 3: non-anginal pain\n",
    "          -- Value 4: asymptomatic\n",
    "      4. trestbps: resting blood pressure  \n",
    "      5. chol:cholestoral      \n",
    "      6. fbs:(fasting blood sugar > 120 mg/dl)  (1 = true; 0 = false)    \n",
    "      7. restecg:\n",
    "          -- Value 0: normal\n",
    "          -- Value 1: having ST-T wave abnormality \n",
    "          -- Value 2: showing probable or definite left ventricular hypertrophy\n",
    "      8. thalach:maximum heart rate achieved\n",
    "      9. exang:exercise induced angina (1 = yes; 0 = no)     \n",
    "      10. oldpeak:ST depression induced by exercise relative to rest   \n",
    "      11. slope:the slope of the peak exercise ST segment\n",
    "        -- Value 1: upsloping\n",
    "        -- Value 2: flat\n",
    "        -- Value 3: downsloping     \n",
    "      12. ca: number of major vessels (0-3) colored by flourosopy        \n",
    "      13. thal: 3 = normal; 6 = fixed defect; 7 = reversable defect \n",
    "      14. category:diagnosis of heart disease[0-4]       (the predicted attribute)"
   ]
  },
  {
   "cell_type": "markdown",
   "metadata": {},
   "source": [
    "# Relevant Information:\n",
    "     This database contains 76 attributes, but all published experiments\n",
    "     refer to using a subset of 14 of them.  In particular, the Cleveland\n",
    "     database is the only one that has been used by ML researchers to \n",
    "     this date.  The \"goal\" field refers to the presence of heart disease\n",
    "     in the patient.  It is integer valued from 0 (no presence) to 4.\n",
    "     Experiments with the Cleveland database have concentrated on simply\n",
    "     attempting to distinguish presence (values 1,2,3,4) from absence (value\n",
    "     0).  \n"
   ]
  },
  {
   "cell_type": "markdown",
   "metadata": {},
   "source": [
    "## Class Distribution:\n",
    "        Database:      0   1   2   3   4 Total\n",
    "          Cleveland: 164  55  36  35  13   303\n",
    "          Hungarian: 188  37  26  28  15   294\n",
    "        Switzerland:   8  48  32  30   5   123\n",
    "      Long Beach VA:  51  56  41  42  10   200"
   ]
  },
  {
   "cell_type": "code",
   "execution_count": 415,
   "metadata": {},
   "outputs": [],
   "source": [
    "import pandas\n",
    "import numpy\n",
    "import matplotlib.pyplot as plt"
   ]
  },
  {
   "cell_type": "code",
   "execution_count": 416,
   "metadata": {
    "scrolled": false
   },
   "outputs": [
    {
     "name": "stdout",
     "output_type": "stream",
     "text": [
      "    AGE  SEX  CP THRESTBPS CHOL FBS RESTECG THALACH EXANG OLDPEAK SLOPE CA  \\\n",
      "0    63    1   1       145  233   1       2     150     0     2.3     3  0   \n",
      "1    67    1   4       160  286   0       2     108     1     1.5     2  3   \n",
      "2    67    1   4       120  229   0       2     129     1     2.6     2  2   \n",
      "3    37    1   3       130  250   0       0     187     0     3.5     3  0   \n",
      "4    41    0   2       130  204   0       2     172     0     1.4     1  0   \n",
      "5    56    1   2       120  236   0       0     178     0     0.8     1  0   \n",
      "6    62    0   4       140  268   0       2     160     0     3.6     3  2   \n",
      "7    57    0   4       120  354   0       0     163     1     0.6     1  0   \n",
      "8    63    1   4       130  254   0       2     147     0     1.4     2  1   \n",
      "9    53    1   4       140  203   1       2     155     1     3.1     3  0   \n",
      "10   57    1   4       140  192   0       0     148     0     0.4     2  0   \n",
      "11   56    0   2       140  294   0       2     153     0     1.3     2  0   \n",
      "12   56    1   3       130  256   1       2     142     1     0.6     2  1   \n",
      "13   44    1   2       120  263   0       0     173     0       0     1  0   \n",
      "14   52    1   3       172  199   1       0     162     0     0.5     1  0   \n",
      "\n",
      "   THAL  CATEGORY  \n",
      "0     6         0  \n",
      "1     3         2  \n",
      "2     7         1  \n",
      "3     3         0  \n",
      "4     3         0  \n",
      "5     3         0  \n",
      "6     3         3  \n",
      "7     3         0  \n",
      "8     7         2  \n",
      "9     7         1  \n",
      "10    6         0  \n",
      "11    3         0  \n",
      "12    6         2  \n",
      "13    7         0  \n",
      "14    7         0  \n"
     ]
    }
   ],
   "source": [
    "df=pandas.read_csv('Preprocessed/data_combined.csv')\n",
    "print df[:15]"
   ]
  },
  {
   "cell_type": "code",
   "execution_count": 417,
   "metadata": {},
   "outputs": [
    {
     "name": "stdout",
     "output_type": "stream",
     "text": [
      "AGE           int64\n",
      "SEX           int64\n",
      "CP            int64\n",
      "THRESTBPS    object\n",
      "CHOL         object\n",
      "FBS          object\n",
      "RESTECG      object\n",
      "THALACH      object\n",
      "EXANG        object\n",
      "OLDPEAK      object\n",
      "SLOPE        object\n",
      "CA           object\n",
      "THAL         object\n",
      "CATEGORY      int64\n",
      "dtype: object\n"
     ]
    }
   ],
   "source": [
    "print df.dtypes"
   ]
  },
  {
   "cell_type": "code",
   "execution_count": 418,
   "metadata": {},
   "outputs": [
    {
     "name": "stdout",
     "output_type": "stream",
     "text": [
      "0    411\n",
      "1    265\n",
      "2    109\n",
      "3    107\n",
      "4     28\n",
      "Name: CATEGORY, dtype: int64\n"
     ]
    }
   ],
   "source": [
    "print df['CATEGORY'].value_counts()"
   ]
  },
  {
   "cell_type": "markdown",
   "metadata": {},
   "source": [
    "## Missing Attribute Values(WEKA TOOL)\n",
    "1. THRESTBPS(6%)\n",
    "2. RESTECG(2 values)\n",
    "2. CHOL(3%)\n",
    "3. FBS(10%)\n",
    "4. THALAC(6%)\n",
    "5. EXANG(6%)\n",
    "5. OLDPEAK(7%)\n",
    "6. SLOPE(34%)\n",
    "7. CA(66%)\n",
    "8. THAL(53%)"
   ]
  },
  {
   "cell_type": "markdown",
   "metadata": {},
   "source": [
    "## Replacing missing values for THERESTBPS"
   ]
  },
  {
   "cell_type": "code",
   "execution_count": 419,
   "metadata": {},
   "outputs": [
    {
     "name": "stdout",
     "output_type": "stream",
     "text": [
      "120    131\n",
      "130    115\n",
      "140    102\n",
      "110     59\n",
      "?       59\n",
      "Name: THRESTBPS, dtype: int64\n"
     ]
    }
   ],
   "source": [
    "print df['THRESTBPS'].value_counts().head()"
   ]
  },
  {
   "cell_type": "code",
   "execution_count": 420,
   "metadata": {},
   "outputs": [],
   "source": [
    "#average rest blood pressure is  generally in range 120-140\n",
    "df['THRESTBPS'] = df['THRESTBPS'].replace(['?'],'120')\n",
    "df['THRESTBPS'] = df['THRESTBPS'].astype('int64')"
   ]
  },
  {
   "cell_type": "markdown",
   "metadata": {},
   "source": [
    "## Replacing missing values for FBS"
   ]
  },
  {
   "cell_type": "code",
   "execution_count": 421,
   "metadata": {},
   "outputs": [
    {
     "name": "stdout",
     "output_type": "stream",
     "text": [
      "0    692\n",
      "1    138\n",
      "?     90\n",
      "Name: FBS, dtype: int64\n",
      "male:\n",
      "0    528\n",
      "1    119\n",
      "?     79\n",
      "Name: FBS, dtype: int64\n",
      "Female:\n",
      "0    164\n",
      "1     19\n",
      "?     11\n",
      "Name: FBS, dtype: int64\n"
     ]
    }
   ],
   "source": [
    "#print df.columns\n",
    "print df['FBS'].value_counts()\n",
    "print \"male:\\n\",df[df['SEX']==1]['FBS'].value_counts()\n",
    "print \"Female:\\n\",df[df['SEX']==0]['FBS'].value_counts()#directly replace with 0"
   ]
  },
  {
   "cell_type": "code",
   "execution_count": 422,
   "metadata": {},
   "outputs": [
    {
     "name": "stdout",
     "output_type": "stream",
     "text": [
      "0    759\n",
      "1    161\n",
      "Name: FBS, dtype: int64\n"
     ]
    }
   ],
   "source": [
    "#randomly filling values with 80% with 0 and 20% with 1s\n",
    "v=df.FBS.values=='?'\n",
    "df.loc[v, 'FBS'] = numpy.random.choice(('0','1'), v.sum(), p=(0.8,0.2))\n",
    "print df['FBS'].value_counts()\n",
    "df['FBS']=df['FBS'].astype('int64')"
   ]
  },
  {
   "cell_type": "markdown",
   "metadata": {},
   "source": [
    "# Replacing missing values in CHOL"
   ]
  },
  {
   "cell_type": "code",
   "execution_count": 423,
   "metadata": {},
   "outputs": [
    {
     "data": {
      "text/plain": [
       "0      172\n",
       "?       30\n",
       "254     10\n",
       "220     10\n",
       "216      9\n",
       "Name: CHOL, dtype: int64"
      ]
     },
     "execution_count": 423,
     "metadata": {},
     "output_type": "execute_result"
    }
   ],
   "source": [
    "df['CHOL'].value_counts().head()\n",
    "#evenly distributed...\n",
    "#so will replace with mean of the class"
   ]
  },
  {
   "cell_type": "code",
   "execution_count": 424,
   "metadata": {},
   "outputs": [
    {
     "name": "stdout",
     "output_type": "stream",
     "text": [
      "[233 286 229 250 204 236 268 354 254 203 192 294 256 263 199 168 239 275\n",
      " 266 211 283 284 224 206 219 340 226 247 167 230 335 234 177 276 353 243\n",
      " 225 302 212 330 175 417 197 198 290 253 172 273 213 305 216 304 188 282\n",
      " 185 232 326 231 269 267 248 360 258 308 245 270 208 264 321 274 325 235\n",
      " 257 164 141 252 255 201 222 260 182 303 265 309 307 249 186 341 183 407\n",
      " 217 288 220 209 227 261 174 281 221 205 240 289 318 298 564 246 322 299\n",
      " 300 293 277 214 207 223 160 394 184 315 409 244 195 196 126 313 259 200\n",
      " 262 215 228 193 271 210 327 149 295 306 178 237 218 242 319 166 180 311\n",
      " 278 342 169 187 157 176 241 131 132 161 173 194 297 292 339 147 291 358\n",
      " 412 238 163 280 202 328 129 190 179 272 100 468 320 312 171 365 344  85\n",
      " 347 251 287 156 117 466 338 529 392 329 355 603 404 518 285 279 388 336\n",
      " 491 331 393   0 153 316 458 384 349 142 181 310 170 369 165 337 333 139\n",
      " 385]\n"
     ]
    }
   ],
   "source": [
    "df['CHOL']=df['CHOL'].replace('?','-69')#temporarily replacing ? with -69\n",
    "df['CHOL']=df['CHOL'].astype('int64')\n",
    "k=int(df[df['CHOL']!=-69]['CHOL'].mean())\n",
    "df['CHOL']=df['CHOL'].replace(-69,k)\n",
    "\n",
    "\n",
    "print df['CHOL'].unique() #completed !--!"
   ]
  },
  {
   "cell_type": "markdown",
   "metadata": {},
   "source": [
    "## Replacing missing values in RESTECG"
   ]
  },
  {
   "cell_type": "code",
   "execution_count": 425,
   "metadata": {},
   "outputs": [
    {
     "name": "stdout",
     "output_type": "stream",
     "text": [
      "0    551\n",
      "2    188\n",
      "1    179\n",
      "?      2\n",
      "Name: RESTECG, dtype: int64\n",
      "after replacing\n",
      "0    553\n",
      "2    188\n",
      "1    179\n",
      "Name: RESTECG, dtype: int64\n"
     ]
    }
   ],
   "source": [
    "print df['RESTECG'].value_counts()\n",
    "\n",
    "#replacing with max occuring value for attribute\n",
    "df['RESTECG']=df['RESTECG'].replace('?','0')\n",
    "#print df['RESTECG'].unique()\n",
    "#print df['RESTECG'].value_counts()\n",
    "df['RESTECG'] = df['RESTECG'].astype('int64')\n",
    "\n",
    "\n",
    "\n",
    "print \"after replacing\\n\",df['RESTECG'].value_counts()"
   ]
  },
  {
   "cell_type": "markdown",
   "metadata": {},
   "source": [
    "## Replacing missing values in THALACH"
   ]
  },
  {
   "cell_type": "code",
   "execution_count": 426,
   "metadata": {},
   "outputs": [
    {
     "data": {
      "text/plain": [
       "?      55\n",
       "150    43\n",
       "140    41\n",
       "120    35\n",
       "130    30\n",
       "Name: THALACH, dtype: int64"
      ]
     },
     "execution_count": 426,
     "metadata": {},
     "output_type": "execute_result"
    }
   ],
   "source": [
    "df['THALACH'].value_counts().head()"
   ]
  },
  {
   "cell_type": "code",
   "execution_count": 427,
   "metadata": {},
   "outputs": [
    {
     "name": "stdout",
     "output_type": "stream",
     "text": [
      "137\n"
     ]
    }
   ],
   "source": [
    "df['THALACH']=df['THALACH'].replace('?','-69')#temporarily replacing ? with -69\n",
    "df['THALACH']=df['THALACH'].astype('int64')\n",
    "k=int(df[df['THALACH']!=-69]['THALACH'].mean())\n",
    "print k\n",
    "df['THALACH']=df['THALACH'].replace(-69,k)"
   ]
  },
  {
   "cell_type": "code",
   "execution_count": 428,
   "metadata": {},
   "outputs": [
    {
     "data": {
      "text/plain": [
       "137    60\n",
       "150    43\n",
       "140    41\n",
       "120    35\n",
       "130    30\n",
       "Name: THALACH, dtype: int64"
      ]
     },
     "execution_count": 428,
     "metadata": {},
     "output_type": "execute_result"
    }
   ],
   "source": [
    "df['THALACH'].value_counts().head()"
   ]
  },
  {
   "cell_type": "markdown",
   "metadata": {},
   "source": [
    "## Replacing missing values in EXANG"
   ]
  },
  {
   "cell_type": "code",
   "execution_count": 429,
   "metadata": {},
   "outputs": [
    {
     "name": "stdout",
     "output_type": "stream",
     "text": [
      "0    528\n",
      "1    337\n",
      "?     55\n",
      "Name: EXANG, dtype: int64\n"
     ]
    }
   ],
   "source": [
    "#exang:exercise induced angina (1 = yes; 0 = no) \n",
    "print df['EXANG'].value_counts()"
   ]
  },
  {
   "cell_type": "code",
   "execution_count": 430,
   "metadata": {},
   "outputs": [
    {
     "name": "stdout",
     "output_type": "stream",
     "text": [
      "0.610404624277\n"
     ]
    }
   ],
   "source": [
    "k=528.0/(337.0+528.0)\n",
    "print k"
   ]
  },
  {
   "cell_type": "code",
   "execution_count": 431,
   "metadata": {},
   "outputs": [
    {
     "name": "stdout",
     "output_type": "stream",
     "text": [
      "0    565\n",
      "1    355\n",
      "Name: EXANG, dtype: int64\n"
     ]
    }
   ],
   "source": [
    "v=df.EXANG.values=='?'\n",
    "df.loc[v,'EXANG'] = numpy.random.choice(('0','1'), v.sum(), p=(0.61,0.39))\n",
    "print df['EXANG'].value_counts()\n",
    "df['EXANG']=df[\"EXANG\"].astype('int64')"
   ]
  },
  {
   "cell_type": "markdown",
   "metadata": {
    "collapsed": true
   },
   "source": [
    "## Replacing missing values in OLDPEAK"
   ]
  },
  {
   "cell_type": "code",
   "execution_count": 432,
   "metadata": {},
   "outputs": [
    {
     "name": "stdout",
     "output_type": "stream",
     "text": [
      "0      370\n",
      "1       83\n",
      "2       76\n",
      "?       62\n",
      "1.5     48\n",
      "Name: OLDPEAK, dtype: int64\n"
     ]
    }
   ],
   "source": [
    "print df['OLDPEAK'].value_counts().head()"
   ]
  },
  {
   "cell_type": "code",
   "execution_count": 433,
   "metadata": {},
   "outputs": [
    {
     "name": "stdout",
     "output_type": "stream",
     "text": [
      "0.878787878788\n"
     ]
    }
   ],
   "source": [
    "df['OLDPEAK']=df['OLDPEAK'].replace('?','-69')#temporarily replacing ? with -69\n",
    "df['OLDPEAK']=df['OLDPEAK'].astype('float64')\n",
    "k=df[df['OLDPEAK']!=-69]['OLDPEAK'].mean()\n",
    "print k\n",
    "df['OLDPEAK']=df['OLDPEAK'].replace(-69,numpy.round(k,1))"
   ]
  },
  {
   "cell_type": "code",
   "execution_count": 434,
   "metadata": {},
   "outputs": [
    {
     "name": "stdout",
     "output_type": "stream",
     "text": [
      "0.0    370\n",
      "1.0     83\n",
      "2.0     76\n",
      "0.9     66\n",
      "1.5     48\n",
      "Name: OLDPEAK, dtype: int64\n"
     ]
    }
   ],
   "source": [
    "print df['OLDPEAK'].value_counts().head()"
   ]
  },
  {
   "cell_type": "markdown",
   "metadata": {},
   "source": [
    "## SLOPE"
   ]
  },
  {
   "cell_type": "code",
   "execution_count": 435,
   "metadata": {},
   "outputs": [
    {
     "name": "stdout",
     "output_type": "stream",
     "text": [
      "2    345\n",
      "?    309\n",
      "1    203\n",
      "3     63\n",
      "Name: SLOPE, dtype: int64\n"
     ]
    }
   ],
   "source": [
    "print df['SLOPE'].value_counts()"
   ]
  },
  {
   "cell_type": "code",
   "execution_count": 436,
   "metadata": {},
   "outputs": [],
   "source": [
    "#k=203.0/(345.0+203.0+63.0)\n",
    "#print k"
   ]
  },
  {
   "cell_type": "code",
   "execution_count": 437,
   "metadata": {},
   "outputs": [
    {
     "name": "stdout",
     "output_type": "stream",
     "text": [
      "2    527\n",
      "1    304\n",
      "3     89\n",
      "Name: SLOPE, dtype: int64\n"
     ]
    }
   ],
   "source": [
    "v=df.SLOPE.values=='?'\n",
    "df.loc[v,'SLOPE'] = numpy.random.choice(('2','1','3'), v.sum(), p=(0.6,0.30,0.10))\n",
    "print df['SLOPE'].value_counts()\n",
    "df['SLOPE']=df['SLOPE'].astype('int64')"
   ]
  },
  {
   "cell_type": "markdown",
   "metadata": {},
   "source": [
    "## CA"
   ]
  },
  {
   "cell_type": "code",
   "execution_count": 438,
   "metadata": {},
   "outputs": [
    {
     "name": "stdout",
     "output_type": "stream",
     "text": [
      "?    611\n",
      "0    181\n",
      "1     67\n",
      "2     41\n",
      "3     20\n",
      "Name: CA, dtype: int64\n",
      "0.132686084142\n"
     ]
    }
   ],
   "source": [
    "print df[\"CA\"].value_counts()\n",
    "k=(41.0)/(181+67+41+20)\n",
    "print k"
   ]
  },
  {
   "cell_type": "code",
   "execution_count": 439,
   "metadata": {},
   "outputs": [
    {
     "name": "stdout",
     "output_type": "stream",
     "text": [
      "0    545\n",
      "1    182\n",
      "2    122\n",
      "3     71\n",
      "Name: CA, dtype: int64\n"
     ]
    }
   ],
   "source": [
    "v=df.CA.values=='?'\n",
    "df.loc[v,'CA'] = numpy.random.choice(('0','1','2','3'), v.sum(), p=(0.60,0.20,0.13,0.07))\n",
    "df['CA']=df['CA'].astype('int64')\n",
    "print df['CA'].value_counts()"
   ]
  },
  {
   "cell_type": "markdown",
   "metadata": {},
   "source": [
    "## THAL"
   ]
  },
  {
   "cell_type": "code",
   "execution_count": 440,
   "metadata": {},
   "outputs": [
    {
     "name": "stdout",
     "output_type": "stream",
     "text": [
      "?    486\n",
      "3    196\n",
      "7    192\n",
      "6     46\n",
      "Name: THAL, dtype: int64\n"
     ]
    }
   ],
   "source": [
    "print df['THAL'].value_counts()\n",
    "#can't use random walk directly here"
   ]
  },
  {
   "cell_type": "code",
   "execution_count": 441,
   "metadata": {},
   "outputs": [
    {
     "name": "stdout",
     "output_type": "stream",
     "text": [
      "1    110\n",
      "0     86\n",
      "Name: SEX, dtype: int64\n",
      "1    171\n",
      "0     21\n",
      "Name: SEX, dtype: int64\n"
     ]
    }
   ],
   "source": [
    "print df[df['THAL']=='3']['SEX'].value_counts()\n",
    "print df[df['THAL']=='7']['SEX'].value_counts()"
   ]
  },
  {
   "cell_type": "code",
   "execution_count": 442,
   "metadata": {},
   "outputs": [
    {
     "name": "stdout",
     "output_type": "stream",
     "text": [
      "THAL:3=====>\n",
      "0    138\n",
      "1     30\n",
      "2     14\n",
      "3     12\n",
      "4      2\n",
      "Name: CATEGORY, dtype: int64\n",
      "THAL:7=====>\n",
      "1    63\n",
      "3    43\n",
      "0    38\n",
      "2    37\n",
      "4    11\n",
      "Name: CATEGORY, dtype: int64\n",
      "THAL:6=====>\n",
      "1    13\n",
      "2    12\n",
      "0    11\n",
      "3     7\n",
      "4     3\n",
      "Name: CATEGORY, dtype: int64\n"
     ]
    }
   ],
   "source": [
    "print \"THAL:3=====>\\n\",df[df['THAL']=='3']['CATEGORY'].value_counts()\n",
    "print \"THAL:7=====>\\n\",df[df['THAL']=='7']['CATEGORY'].value_counts()\n",
    "print \"THAL:6=====>\\n\",df[df['THAL']=='6']['CATEGORY'].value_counts()"
   ]
  },
  {
   "cell_type": "code",
   "execution_count": 443,
   "metadata": {},
   "outputs": [
    {
     "name": "stdout",
     "output_type": "stream",
     "text": [
      "7    454\n",
      "3    420\n",
      "6     46\n",
      "Name: THAL, dtype: int64\n"
     ]
    }
   ],
   "source": [
    "df['THAL']=df['THAL'].replace('?',-1)\n",
    "'''\n",
    "df['THAL']=df['THAL'].replace('?',-1)\n",
    "for row in df.iterrows():\n",
    "    if row['THAL']==-1 and row['CATEGORY']>=1:\n",
    "        df.loc[row.Index, 'ifor'] = 7\n",
    "        \n",
    "    elif row['THAL']==-1 and row['CATEGORY']==0:\n",
    "        df.loc[row.Index, 'ifor'] = 3\n",
    "'''\n",
    "df.loc[(df['THAL']==-1)&(df['CATEGORY']!=0),'THAL']='7'\n",
    "#print df['THAL'].value_counts()\n",
    "df.loc[(df['THAL']==-1)&(df['CATEGORY']==0),'THAL']='3'\n",
    "print df['THAL'].value_counts()\n",
    "df['THAL']=df['THAL'].astype('int64')"
   ]
  },
  {
   "cell_type": "code",
   "execution_count": 444,
   "metadata": {},
   "outputs": [
    {
     "name": "stdout",
     "output_type": "stream",
     "text": [
      "AGE            int64\n",
      "SEX            int64\n",
      "CP             int64\n",
      "THRESTBPS      int64\n",
      "CHOL           int64\n",
      "FBS            int64\n",
      "RESTECG        int64\n",
      "THALACH        int64\n",
      "EXANG          int64\n",
      "OLDPEAK      float64\n",
      "SLOPE          int64\n",
      "CA             int64\n",
      "THAL           int64\n",
      "CATEGORY       int64\n",
      "dtype: object\n"
     ]
    }
   ],
   "source": [
    "print df.dtypes"
   ]
  },
  {
   "cell_type": "code",
   "execution_count": 445,
   "metadata": {},
   "outputs": [],
   "source": [
    "dummies = pandas.get_dummies(df[\"CP\"],prefix=\"CP\")\n",
    "df = df.join(dummies)\n",
    "\n",
    "dummies = pandas.get_dummies(df[\"RESTECG\"],prefix=\"RESTECG\")\n",
    "df      = df.join(dummies)\n",
    "\n",
    "dummies = pandas.get_dummies(df[\"SLOPE\"],prefix=\"SLOPE\")\n",
    "df      = df.join(dummies)\n",
    "\n",
    "dummies = pandas.get_dummies(df[\"THAL\"],prefix=\"THAL\")\n",
    "df      = df.join(dummies)\n",
    "\n",
    "\n",
    "del df['CP']\n",
    "del df['RESTECG']\n",
    "del df['SLOPE']\n",
    "del df['THAL']"
   ]
  },
  {
   "cell_type": "code",
   "execution_count": 446,
   "metadata": {},
   "outputs": [
    {
     "name": "stdout",
     "output_type": "stream",
     "text": [
      "AGE            int64\n",
      "SEX            int64\n",
      "THRESTBPS      int64\n",
      "CHOL           int64\n",
      "FBS            int64\n",
      "THALACH        int64\n",
      "EXANG          int64\n",
      "OLDPEAK      float64\n",
      "CA             int64\n",
      "CATEGORY       int64\n",
      "CP_1           uint8\n",
      "CP_2           uint8\n",
      "CP_3           uint8\n",
      "CP_4           uint8\n",
      "RESTECG_0      uint8\n",
      "RESTECG_1      uint8\n",
      "RESTECG_2      uint8\n",
      "SLOPE_1        uint8\n",
      "SLOPE_2        uint8\n",
      "SLOPE_3        uint8\n",
      "THAL_3         uint8\n",
      "THAL_6         uint8\n",
      "THAL_7         uint8\n",
      "dtype: object\n"
     ]
    }
   ],
   "source": [
    "print df.dtypes"
   ]
  },
  {
   "cell_type": "code",
   "execution_count": 447,
   "metadata": {},
   "outputs": [],
   "source": [
    "for g in df.columns:\n",
    "    if df[g].dtype=='uint8':\n",
    "        df[g]=df[g].astype('int64')"
   ]
  },
  {
   "cell_type": "code",
   "execution_count": 448,
   "metadata": {},
   "outputs": [],
   "source": [
    "df.dtypes\n",
    "df.loc[df['CATEGORY']>0,'CATEGORY']=1"
   ]
  },
  {
   "cell_type": "code",
   "execution_count": 449,
   "metadata": {},
   "outputs": [
    {
     "name": "stdout",
     "output_type": "stream",
     "text": [
      "AGE 2.49229867231 -2.70681396757\n",
      "THRESTBPS 3.67440591791 -7.03102349108\n",
      "CHOL 3.70670590542 -1.82755513195\n",
      "THALACH 2.56523324659 -3.08339929343\n",
      "OLDPEAK 5.04825042025 -3.30258023693\n",
      "CA 0.76847826087 -0.23152173913\n"
     ]
    }
   ],
   "source": [
    "stdcols = [\"AGE\",\"THRESTBPS\",\"CHOL\",\"THALACH\",\"OLDPEAK\"]\n",
    "nrmcols = [\"CA\"]\n",
    "stddf   = df.copy()\n",
    "stddf[stdcols] = stddf[stdcols].apply(lambda x: (x-x.mean())/x.std())\n",
    "stddf[nrmcols] = stddf[nrmcols].apply(lambda x: (x-x.mean())/(x.max()-x.min()))\n",
    "#stddf[stdcols] = stddf[stdcols].apply(lambda x: (x-x.mean())/(x.max()-x.min()))\n",
    "\n",
    "\n",
    "for g in stdcols:\n",
    "    print g,max(stddf[g]),min(stddf[g])\n",
    "    \n",
    "for g in nrmcols:\n",
    "    print g,max(stddf[g]),min(stddf[g])    "
   ]
  },
  {
   "cell_type": "code",
   "execution_count": 450,
   "metadata": {},
   "outputs": [
    {
     "name": "stdout",
     "output_type": "stream",
     "text": [
      "AGE          float64\n",
      "SEX            int64\n",
      "THRESTBPS    float64\n",
      "CHOL         float64\n",
      "FBS            int64\n",
      "THALACH      float64\n",
      "EXANG          int64\n",
      "OLDPEAK      float64\n",
      "CA           float64\n",
      "CATEGORY       int64\n",
      "CP_1           int64\n",
      "CP_2           int64\n",
      "CP_3           int64\n",
      "CP_4           int64\n",
      "RESTECG_0      int64\n",
      "RESTECG_1      int64\n",
      "RESTECG_2      int64\n",
      "SLOPE_1        int64\n",
      "SLOPE_2        int64\n",
      "SLOPE_3        int64\n",
      "THAL_3         int64\n",
      "THAL_6         int64\n",
      "THAL_7         int64\n",
      "dtype: object\n"
     ]
    }
   ],
   "source": [
    "print stddf.dtypes"
   ]
  },
  {
   "cell_type": "code",
   "execution_count": 451,
   "metadata": {},
   "outputs": [],
   "source": [
    "from sklearn.model_selection import train_test_split\n"
   ]
  },
  {
   "cell_type": "code",
   "execution_count": 452,
   "metadata": {},
   "outputs": [
    {
     "name": "stdout",
     "output_type": "stream",
     "text": [
      "<type 'numpy.ndarray'> (920L, 22L)\n"
     ]
    }
   ],
   "source": [
    "df_copy=stddf.copy()\n",
    "df_copy=df_copy.drop(['CATEGORY'],axis=1)\n",
    "\n",
    "dat=df_copy.values\n",
    "#print dat.shape\n",
    "\n",
    "print type(dat),dat.shape"
   ]
  },
  {
   "cell_type": "code",
   "execution_count": 453,
   "metadata": {},
   "outputs": [
    {
     "name": "stdout",
     "output_type": "stream",
     "text": [
      "[0 1 1 0 0] <type 'numpy.ndarray'>\n"
     ]
    }
   ],
   "source": [
    "labels=df['CATEGORY'].values\n",
    "print labels[:5],type(labels)"
   ]
  },
  {
   "cell_type": "code",
   "execution_count": 454,
   "metadata": {},
   "outputs": [],
   "source": [
    "x_train,x_test,y_train,y_test=train_test_split(dat,labels, test_size=0.25, random_state=42)"
   ]
  },
  {
   "cell_type": "code",
   "execution_count": 455,
   "metadata": {},
   "outputs": [
    {
     "name": "stdout",
     "output_type": "stream",
     "text": [
      "x_train: (690L, 22L)\n",
      "y_train: (690L,)\n",
      "\n",
      "x_test: (230L, 22L)\n",
      "y_test: (230L,)\n"
     ]
    }
   ],
   "source": [
    "print \"x_train:\",x_train.shape\n",
    "print \"y_train:\",y_train.shape\n",
    "print\n",
    "print \"x_test:\",x_test.shape\n",
    "print \"y_test:\",y_test.shape"
   ]
  },
  {
   "cell_type": "code",
   "execution_count": 456,
   "metadata": {},
   "outputs": [
    {
     "name": "stdout",
     "output_type": "stream",
     "text": [
      "SVM: 88.2608695652 %\n",
      "Logistic Regression: 88.2608695652 %\n"
     ]
    }
   ],
   "source": [
    "from sklearn import svm\n",
    "clf = svm.SVC(gamma=0.001,kernel='linear',C=5)\n",
    "clf.fit(x_train,y_train)\n",
    "print \"SVM:\",clf.score(x_test,y_test)*100,\"%\"\n",
    "\n",
    "from sklearn import linear_model\n",
    "lrcv=linear_model.LogisticRegressionCV(fit_intercept=True,penalty='l2',dual=False)\n",
    "lrcv.fit(x_train,y_train)\n",
    "print \"Logistic Regression:\",lrcv.score(x_test,y_test)*100,\"%\"\n"
   ]
  },
  {
   "cell_type": "markdown",
   "metadata": {
    "collapsed": true
   },
   "source": [
    "def make_model(activ,opti,ip,layers,trainx,trainy,testx,testy):\n",
    "    model = Sequential()\n",
    "    model.add(Dense(layers[0], input_dim=ip, init='uniform', activation=activ))\n",
    "    model.add(Dense(layers[1], init='uniform', activation=activ))\n",
    "    model.add(Dense(1, init='uniform', activation=activ))\n",
    "    model.compile(loss='mse', optimizer=opti, metrics=['accuracy'])\n",
    "    model.fit(trainx,trainy,epochs=600,batch_size=512,verbose=2,validation_data=(testx,testy))\n",
    "    \n",
    "    trainScore = model.evaluate(trainx,trainy, verbose=0)\n",
    "    print \"Train Score: \",100-trainScore[0]*100\n",
    "    testScore = model.evaluate(testx,testy, verbose=0)\n",
    "    print \"Test Score: \",100-testScore[0]*100\n",
    "    \n",
    "    return model\n",
    "    \n",
    "    \n",
    "    \n",
    "    "
   ]
  },
  {
   "cell_type": "markdown",
   "metadata": {},
   "source": [
    "# KFOLDS ON SVM"
   ]
  },
  {
   "cell_type": "code",
   "execution_count": 457,
   "metadata": {},
   "outputs": [
    {
     "name": "stdout",
     "output_type": "stream",
     "text": [
      "best accuracy 94.6564885496\n"
     ]
    }
   ],
   "source": [
    "#selecting the best  partition for testing and training....\n",
    "\n",
    "from sklearn.model_selection import KFold\n",
    "kf = KFold(n_splits=7)\n",
    "kf.get_n_splits(dat)\n",
    "\n",
    "avgsum=0\n",
    "\n",
    "clf = svm.SVC(gamma=0.001,kernel='linear',C=5)\n",
    "score=-9\n",
    "for train_index, test_index in kf.split(dat):\n",
    "    #print train_index[0],train_index[len(train_index)-1],test_index[0],test_index[len(test_index)-1]\n",
    "    fX_train, fX_test = dat[train_index],dat[test_index]\n",
    "    #print fX_train.shape\n",
    "    #print fy_train.shape\n",
    "    fy_train, fy_test = labels[train_index],labels[test_index]\n",
    "    clf.fit(fX_train,fy_train)\n",
    "    g=clf.score(fX_test,fy_test)*100\n",
    "    avgsum=avgsum+g\n",
    "    if g>score:\n",
    "        btrain_x,btrain_y,btest_x,btest_y=fX_train,fy_train,fX_test,fy_test\n",
    "        score=g\n",
    "clfbest = svm.SVC(gamma=0.001,kernel='linear',C=5,probability=True)\n",
    "clfbest.fit(btrain_x,btrain_y)\n",
    "print \"best accuracy\",clfbest.score(btest_x,btest_y)*100\n",
    "\n",
    "pr=clfbest.predict(btest_x)"
   ]
  },
  {
   "cell_type": "code",
   "execution_count": 458,
   "metadata": {},
   "outputs": [
    {
     "name": "stdout",
     "output_type": "stream",
     "text": [
      "Precision 83\n"
     ]
    }
   ],
   "source": [
    "tp=0\n",
    "p=0\n",
    "for i in range(len(pr)):\n",
    "    #print btest_y[i],\"\\t\",pr[i]\n",
    "    if btest_y[i]==pr[i] and pr[i]==1:\n",
    "        tp=tp+1\n",
    "    if pr[i]==1:\n",
    "        p=p+1\n",
    "#print p,\" \",tp\n",
    "print \"Precision\",tp*100/p"
   ]
  },
  {
   "cell_type": "code",
   "execution_count": 459,
   "metadata": {},
   "outputs": [
    {
     "name": "stdout",
     "output_type": "stream",
     "text": [
      "[[ 0.80902985  0.19097015]]\n",
      "0\n"
     ]
    }
   ],
   "source": [
    "print clfbest.predict_proba([x_test[1]])\n",
    "print y_test[1]"
   ]
  },
  {
   "cell_type": "code",
   "execution_count": 460,
   "metadata": {},
   "outputs": [
    {
     "name": "stdout",
     "output_type": "stream",
     "text": [
      "[[  1.11560278e-03   1.90600052e-03   2.39476597e-03  -5.03111422e-03\n",
      "   -1.05570893e-03  -3.80203629e-03   6.01431923e-03   2.21416459e-03\n",
      "    9.97483008e-03  -9.88207206e-04  -3.65241301e-03  -2.09286488e-03\n",
      "    6.73348510e-03  -6.13740800e-04  -2.52924150e-03   3.14298230e-03\n",
      "   -1.28701595e-03   3.18331929e-03  -1.89630335e-03  -1.33175459e+00\n",
      "    6.61439361e-01   6.70315229e-01]]\n",
      "\n",
      "[ 0.32760697]\n"
     ]
    }
   ],
   "source": [
    "print clfbest.coef_\n",
    "\n",
    "\n",
    "print \"\\n\",clfbest.intercept_"
   ]
  },
  {
   "cell_type": "code",
   "execution_count": 463,
   "metadata": {},
   "outputs": [
    {
     "name": "stdout",
     "output_type": "stream",
     "text": [
      "[-1.00724054]\n",
      "0\n",
      "[[  1.11560278e-03   1.90600052e-03   2.39476597e-03  -5.03111422e-03\n",
      "   -1.05570893e-03  -3.80203629e-03   6.01431923e-03   2.21416459e-03\n",
      "    9.97483008e-03  -9.88207206e-04  -3.65241301e-03  -2.09286488e-03\n",
      "    6.73348510e-03  -6.13740800e-04  -2.52924150e-03   3.14298230e-03\n",
      "   -1.28701595e-03   3.18331929e-03  -1.89630335e-03  -1.33175459e+00\n",
      "    6.61439361e-01   6.70315229e-01]]\n",
      "[-1.00724054]\n"
     ]
    }
   ],
   "source": [
    "print clfbest.decision_function([x_test[1]])\n",
    "print y_test[1]\n",
    "\n",
    "#for g in range(len(x_test[1])):\n",
    "#    print x_test[1][g]\n",
    "    \n",
    "k=clfbest.coef_\n",
    "print k\n",
    "x=0\n",
    "\n",
    "for g in range(len(x_test[1])):\n",
    "    x=x_test[1][g]*k[0][g]+x\n",
    "print x+clfbest.intercept_    \n"
   ]
  },
  {
   "cell_type": "code",
   "execution_count": 465,
   "metadata": {},
   "outputs": [
    {
     "name": "stdout",
     "output_type": "stream",
     "text": [
      "79.1641340504\n"
     ]
    }
   ],
   "source": [
    "import math\n",
    "print 100/(1+math.exp(x))"
   ]
  }
 ],
 "metadata": {
  "kernelspec": {
   "display_name": "Python 2",
   "language": "python",
   "name": "python2"
  },
  "language_info": {
   "codemirror_mode": {
    "name": "ipython",
    "version": 2
   },
   "file_extension": ".py",
   "mimetype": "text/x-python",
   "name": "python",
   "nbconvert_exporter": "python",
   "pygments_lexer": "ipython2",
   "version": "2.7.14"
  }
 },
 "nbformat": 4,
 "nbformat_minor": 2
}
